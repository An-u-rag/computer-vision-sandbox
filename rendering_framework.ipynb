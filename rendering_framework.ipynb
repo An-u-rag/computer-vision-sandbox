{
  "nbformat": 4,
  "nbformat_minor": 0,
  "metadata": {
    "colab": {
      "provenance": []
    },
    "kernelspec": {
      "name": "python3",
      "display_name": "Python 3"
    },
    "language_info": {
      "name": "python"
    },
    "accelerator": "GPU",
    "gpuClass": "standard"
  },
  "cells": [
    {
      "cell_type": "code",
      "source": [
        "!pip install torch==1.13.0 torchvision==0.14.0 torchaudio==0.13.0"
      ],
      "metadata": {
        "colab": {
          "base_uri": "https://localhost:8080/"
        },
        "id": "bV_apCfph0MD",
        "outputId": "5b1a7bad-3214-477c-b713-b1df6e2bbbd3"
      },
      "execution_count": 1,
      "outputs": [
        {
          "output_type": "stream",
          "name": "stdout",
          "text": [
            "Looking in indexes: https://pypi.org/simple, https://us-python.pkg.dev/colab-wheels/public/simple/\n",
            "Requirement already satisfied: torch==1.13.0 in /usr/local/lib/python3.9/dist-packages (1.13.0)\n",
            "Requirement already satisfied: torchvision==0.14.0 in /usr/local/lib/python3.9/dist-packages (0.14.0)\n",
            "Requirement already satisfied: torchaudio==0.13.0 in /usr/local/lib/python3.9/dist-packages (0.13.0)\n",
            "Requirement already satisfied: nvidia-cuda-nvrtc-cu11==11.7.99 in /usr/local/lib/python3.9/dist-packages (from torch==1.13.0) (11.7.99)\n",
            "Requirement already satisfied: typing-extensions in /usr/local/lib/python3.9/dist-packages (from torch==1.13.0) (4.5.0)\n",
            "Requirement already satisfied: nvidia-cuda-runtime-cu11==11.7.99 in /usr/local/lib/python3.9/dist-packages (from torch==1.13.0) (11.7.99)\n",
            "Requirement already satisfied: nvidia-cublas-cu11==11.10.3.66 in /usr/local/lib/python3.9/dist-packages (from torch==1.13.0) (11.10.3.66)\n",
            "Requirement already satisfied: nvidia-cudnn-cu11==8.5.0.96 in /usr/local/lib/python3.9/dist-packages (from torch==1.13.0) (8.5.0.96)\n",
            "Requirement already satisfied: numpy in /usr/local/lib/python3.9/dist-packages (from torchvision==0.14.0) (1.22.4)\n",
            "Requirement already satisfied: pillow!=8.3.*,>=5.3.0 in /usr/local/lib/python3.9/dist-packages (from torchvision==0.14.0) (8.4.0)\n",
            "Requirement already satisfied: requests in /usr/local/lib/python3.9/dist-packages (from torchvision==0.14.0) (2.27.1)\n",
            "Requirement already satisfied: setuptools in /usr/local/lib/python3.9/dist-packages (from nvidia-cublas-cu11==11.10.3.66->torch==1.13.0) (67.6.1)\n",
            "Requirement already satisfied: wheel in /usr/local/lib/python3.9/dist-packages (from nvidia-cublas-cu11==11.10.3.66->torch==1.13.0) (0.40.0)\n",
            "Requirement already satisfied: certifi>=2017.4.17 in /usr/local/lib/python3.9/dist-packages (from requests->torchvision==0.14.0) (2022.12.7)\n",
            "Requirement already satisfied: idna<4,>=2.5 in /usr/local/lib/python3.9/dist-packages (from requests->torchvision==0.14.0) (3.4)\n",
            "Requirement already satisfied: charset-normalizer~=2.0.0 in /usr/local/lib/python3.9/dist-packages (from requests->torchvision==0.14.0) (2.0.12)\n",
            "Requirement already satisfied: urllib3<1.27,>=1.21.1 in /usr/local/lib/python3.9/dist-packages (from requests->torchvision==0.14.0) (1.26.15)\n"
          ]
        }
      ]
    },
    {
      "cell_type": "code",
      "execution_count": 2,
      "metadata": {
        "colab": {
          "base_uri": "https://localhost:8080/"
        },
        "id": "NkSad-rU7rdv",
        "outputId": "5019b97d-c88e-4f42-8c2e-2f28b1c84e32"
      },
      "outputs": [
        {
          "output_type": "stream",
          "name": "stdout",
          "text": [
            "Looking in indexes: https://pypi.org/simple, https://us-python.pkg.dev/colab-wheels/public/simple/\n",
            "Looking in links: https://nvidia-kaolin.s3.us-east-2.amazonaws.com/torch-1.13.0_cu116.html\n",
            "Requirement already satisfied: kaolin==0.13.0 in /usr/local/lib/python3.9/dist-packages (0.13.0)\n",
            "Requirement already satisfied: tornado==6.1 in /usr/local/lib/python3.9/dist-packages (from kaolin==0.13.0) (6.1)\n",
            "Requirement already satisfied: Pillow>=8.0.0 in /usr/local/lib/python3.9/dist-packages (from kaolin==0.13.0) (8.4.0)\n",
            "Requirement already satisfied: flask==2.0.3 in /usr/local/lib/python3.9/dist-packages (from kaolin==0.13.0) (2.0.3)\n",
            "Requirement already satisfied: usd-core<22.8 in /usr/local/lib/python3.9/dist-packages (from kaolin==0.13.0) (22.5.post1)\n",
            "Requirement already satisfied: tqdm>=4.51.0 in /usr/local/lib/python3.9/dist-packages (from kaolin==0.13.0) (4.65.0)\n",
            "Requirement already satisfied: scipy>=1.2.0 in /usr/local/lib/python3.9/dist-packages (from kaolin==0.13.0) (1.10.1)\n",
            "Requirement already satisfied: Jinja2>=3.0 in /usr/local/lib/python3.9/dist-packages (from flask==2.0.3->kaolin==0.13.0) (3.1.2)\n",
            "Requirement already satisfied: Werkzeug>=2.0 in /usr/local/lib/python3.9/dist-packages (from flask==2.0.3->kaolin==0.13.0) (2.2.3)\n",
            "Requirement already satisfied: click>=7.1.2 in /usr/local/lib/python3.9/dist-packages (from flask==2.0.3->kaolin==0.13.0) (8.1.3)\n",
            "Requirement already satisfied: itsdangerous>=2.0 in /usr/local/lib/python3.9/dist-packages (from flask==2.0.3->kaolin==0.13.0) (2.1.2)\n",
            "Requirement already satisfied: numpy<1.27.0,>=1.19.5 in /usr/local/lib/python3.9/dist-packages (from scipy>=1.2.0->kaolin==0.13.0) (1.22.4)\n",
            "Requirement already satisfied: MarkupSafe>=2.0 in /usr/local/lib/python3.9/dist-packages (from Jinja2>=3.0->flask==2.0.3->kaolin==0.13.0) (2.1.2)\n"
          ]
        }
      ],
      "source": [
        "#@title Install Kaolin\n",
        "\n",
        "!pip install kaolin==0.13.0 -f https://nvidia-kaolin.s3.us-east-2.amazonaws.com/torch-1.13.0_cu116.html"
      ]
    },
    {
      "cell_type": "code",
      "source": [
        "#import modules\n",
        "\n",
        "import torch\n",
        "import kaolin as kal\n",
        "import numpy as np\n",
        "from PIL import Image\n",
        "\n",
        "device = torch.device('cuda:0')"
      ],
      "metadata": {
        "id": "9tK_e9BD8Fvo"
      },
      "execution_count": 3,
      "outputs": []
    },
    {
      "cell_type": "code",
      "source": [
        "#@title get camera params from elevation, azimuth, radius\n",
        "def get_camera_from_view(elev, azim, r=3.0):\n",
        "    x = r * torch.cos(elev) * torch.cos(azim)\n",
        "    y = r * torch.sin(elev)\n",
        "    z = r * torch.cos(elev) * torch.sin(azim)\n",
        "\n",
        "    pos = torch.tensor([x, y, z]).unsqueeze(0)\n",
        "    look_at = -pos\n",
        "    direction = torch.tensor([0.0, 1.0, 0.0]).unsqueeze(0)\n",
        "\n",
        "    camera_proj = kal.render.camera.generate_transformation_matrix(pos, look_at, direction)\n",
        "    return camera_proj"
      ],
      "metadata": {
        "id": "UUkX3nUW8OaB"
      },
      "execution_count": 4,
      "outputs": []
    },
    {
      "cell_type": "code",
      "source": [
        "#Mesh class\n",
        "\n",
        "class Mesh:\n",
        "  def __init__(self, obj_path):\n",
        "     mesh = kal.io.obj.import_mesh(obj_path, with_normals = True)\n",
        "     self.vertices = mesh.vertices.to(device)\n",
        "     self.faces = mesh.faces.to(device)\n",
        "     self.vertex_normals = mesh.vertex_normals.to(device)\n",
        "     self.normalize_mesh()\n",
        "    \n",
        "  def normalize_mesh(self):\n",
        "    center = self.vertices.mean(dim = 0)\n",
        "    v = self.vertices - center\n",
        "    scale = torch.norm(v, dim = 1).max()\n",
        "    v /= scale\n",
        "    self.vertices = v"
      ],
      "metadata": {
        "id": "rFWdwt-v8ZWW"
      },
      "execution_count": 5,
      "outputs": []
    },
    {
      "cell_type": "code",
      "source": [
        "#Render single image from Mesh\n",
        "lights = torch.tensor([1.0, 1.0, 1.0, 0.0, 0.0, 0.0, 0.0, 0.0, 0.0]).to(device)\n",
        "camera_projection =kal.render.camera.generate_perspective_projection(np.pi / 3).to(device)\n",
        "dim = (224, 224)\n",
        "def render_single_view(mesh, elev=0, azim=0, show=False, lighting=True, background=None, radius=2,\n",
        "                        return_mask=False):\n",
        "    # if mesh is None:\n",
        "    #     mesh = self._current_mesh\n",
        "    verts = mesh.vertices\n",
        "    faces = mesh.faces\n",
        "    n_faces = faces.shape[0]\n",
        "\n",
        "    face_attributes = torch.ones(1, n_faces, 3, 3).to(device) * 0.5\n",
        "\n",
        "\n",
        "    camera_transform = get_camera_from_view(torch.tensor(elev), torch.tensor(azim), r=radius).to(device)\n",
        "    face_vertices_camera, face_vertices_image, face_normals = kal.render.mesh.prepare_vertices(\n",
        "        mesh.vertices.to(device), mesh.faces.to(device), camera_projection, camera_transform=camera_transform)\n",
        "\n",
        "    image_features, soft_mask, face_idx = kal.render.mesh.dibr_rasterization(\n",
        "        dim[1], dim[0], face_vertices_camera[:, :, :, -1],\n",
        "        face_vertices_image, face_attributes, face_normals[:, :, -1])\n",
        "\n",
        "\n",
        "    image = torch.clamp(image_features, 0.0, 1.0)\n",
        "    if lighting:\n",
        "        image_normals = face_normals[:, face_idx].squeeze(0)\n",
        "        image_lighting = kal.render.mesh.spherical_harmonic_lighting(image_normals, lights).unsqueeze(0)\n",
        "        image = image * image_lighting.repeat(1, 3, 1, 1).permute(0, 2, 3, 1).to(device)\n",
        "        image = torch.clamp(image, 0.0, 1.0)\n",
        "\n",
        "    return image"
      ],
      "metadata": {
        "id": "HCv912vP9C9h"
      },
      "execution_count": 6,
      "outputs": []
    },
    {
      "cell_type": "code",
      "source": [
        "mesh = Mesh('./vase.obj')\n",
        "image = render_single_view(mesh, elev = np.pi / 3)\n",
        "\n",
        "Image.fromarray((image.squeeze(0).cpu().numpy() * 255.).astype('uint8'))"
      ],
      "metadata": {
        "colab": {
          "base_uri": "https://localhost:8080/",
          "height": 241
        },
        "id": "JfeUZb94-PHq",
        "outputId": "e84bd4ca-5342-4711-dd19-307d03ab91ca"
      },
      "execution_count": 11,
      "outputs": [
        {
          "output_type": "execute_result",
          "data": {
            "text/plain": [
              "<PIL.Image.Image image mode=RGB size=224x224 at 0x7F58948524F0>"
            ],
            "image/png": "[encoded data removed]"
          },
          "metadata": {},
          "execution_count": 11
        }
      ]
    },
    {
      "cell_type": "code",
      "source": [
        "# To Render multiple images/views and combine to form a video\n",
        "import cv2\n",
        "import os\n",
        "\n",
        "# Loop over different azimuth values to get multiple views\n",
        "# Azimuth Range 0-360 degrees or 0-2pi radians\n",
        "azimuths = np.linspace(0, 2 * np.pi, num=100)\n",
        "print(azimuths)\n",
        "\n",
        "# Now loop over them\n",
        "frames = []\n",
        "for azim in azimuths:\n",
        "  frame = render_single_view(mesh, elev = np.pi / 3, azim = np.float(azim))\n",
        "  frame = Image.fromarray((frame.squeeze(0).cpu().numpy() * 255.).astype('uint8'))\n",
        "  frame = np.array(frame) \n",
        "  # Convert RGB to BGR \n",
        "  frame = frame[:, :, ::-1].copy() \n",
        "  frames.append(frame)\n",
        "\n",
        "# Now convert frames array to video using openCV\n",
        "height, width, layers = frames[0].shape\n",
        "\n",
        "fourcc = cv2.VideoWriter_fourcc(*'mp4v')\n",
        "video = cv2.VideoWriter(\"vase.mp4\", fourcc, 30, (width, height))\n",
        "\n",
        "for frame in frames:\n",
        "    video.write(frame)\n",
        "\n",
        "video.release()\n",
        "\n"
      ],
      "metadata": {
        "colab": {
          "base_uri": "https://localhost:8080/"
        },
        "id": "6RQ8NpqGX32h",
        "outputId": "77d844c4-6b41-4191-f732-5ecc2896dda4"
      },
      "execution_count": 22,
      "outputs": [
        {
          "output_type": "stream",
          "name": "stdout",
          "text": [
            "[0.         0.06346652 0.12693304 0.19039955 0.25386607 0.31733259\n",
            " 0.38079911 0.44426563 0.50773215 0.57119866 0.63466518 0.6981317\n",
            " 0.76159822 0.82506474 0.88853126 0.95199777 1.01546429 1.07893081\n",
            " 1.14239733 1.20586385 1.26933037 1.33279688 1.3962634  1.45972992\n",
            " 1.52319644 1.58666296 1.65012947 1.71359599 1.77706251 1.84052903\n",
            " 1.90399555 1.96746207 2.03092858 2.0943951  2.15786162 2.22132814\n",
            " 2.28479466 2.34826118 2.41172769 2.47519421 2.53866073 2.60212725\n",
            " 2.66559377 2.72906028 2.7925268  2.85599332 2.91945984 2.98292636\n",
            " 3.04639288 3.10985939 3.17332591 3.23679243 3.30025895 3.36372547\n",
            " 3.42719199 3.4906585  3.55412502 3.61759154 3.68105806 3.74452458\n",
            " 3.8079911  3.87145761 3.93492413 3.99839065 4.06185717 4.12532369\n",
            " 4.1887902  4.25225672 4.31572324 4.37918976 4.44265628 4.5061228\n",
            " 4.56958931 4.63305583 4.69652235 4.75998887 4.82345539 4.88692191\n",
            " 4.95038842 5.01385494 5.07732146 5.14078798 5.2042545  5.26772102\n",
            " 5.33118753 5.39465405 5.45812057 5.52158709 5.58505361 5.64852012\n",
            " 5.71198664 5.77545316 5.83891968 5.9023862  5.96585272 6.02931923\n",
            " 6.09278575 6.15625227 6.21971879 6.28318531]\n"
          ]
        },
        {
          "output_type": "stream",
          "name": "stderr",
          "text": [
            "<ipython-input-22-e4a9c86cf81f>:13: DeprecationWarning: `np.float` is a deprecated alias for the builtin `float`. To silence this warning, use `float` by itself. Doing this will not modify any behavior and is safe. If you specifically wanted the numpy scalar type, use `np.float64` here.\n",
            "Deprecated in NumPy 1.20; for more details and guidance: https://numpy.org/devdocs/release/1.20.0-notes.html#deprecations\n",
            "  frame = render_single_view(mesh, elev = np.pi / 3, azim = np.float(azim))\n"
          ]
        }
      ]
    }
  ]
}