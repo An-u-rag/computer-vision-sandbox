{
  "cells": [
    {
      "cell_type": "markdown",
      "metadata": {
        "id": "view-in-github",
        "colab_type": "text"
      },
      "source": [
        "<a href=\"https://colab.research.google.com/github/An-u-rag/computer-vision-sandbox/blob/main/mnist-mlp-cnn.ipynb\" target=\"_parent\"><img src=\"https://colab.research.google.com/assets/colab-badge.svg\" alt=\"Open In Colab\"/></a>"
      ]
    },
    {
      "cell_type": "markdown",
      "metadata": {
        "id": "p4Am3Nw0dQyB"
      },
      "source": [
        "## Data loading\n",
        "\n",
        "In the last exercises, we took care of the dataloading and mini-batching for you. With PyTorch, this task is considerably easier, so let's do it ourselves."
      ]
    },
    {
      "cell_type": "code",
      "execution_count": null,
      "metadata": {
        "id": "tt-VBW-bdQyE"
      },
      "outputs": [],
      "source": [
        "import numpy as np\n",
        "import matplotlib.pyplot as plt\n",
        "\n",
        "import torch\n",
        "import torch.nn as nn\n",
        "import torch.nn.functional as F\n",
        "import torch.optim as optim\n",
        "from torch.utils.data import DataLoader\n",
        "import torchvision\n",
        "from torchvision import datasets, transforms"
      ]
    },
    {
      "cell_type": "code",
      "execution_count": null,
      "metadata": {
        "colab": {
          "base_uri": "https://localhost:8080/",
          "height": 433,
          "referenced_widgets": [
            "24925b31fe5248b2be483225cb3132e0",
            "4dde0eefcc4e470b82103401993547d2",
            "02fb38b34cfa4375aaada4a0229991d7",
            "19cecbb035904857ad623af952586a8c",
            "c4737c430eab42008928eab15322596d",
            "2f69f367d5e04dcf8ba3918762dc15ab",
            "f522b0f2f37c46f287df54c6e3e82b48",
            "61472b2704a748ea86d1a34154734aa2",
            "a4e3954e7c904975849da760a3a4f7bb",
            "c32216c4eaec4f3a931a6959a4a578c6",
            "297a5f7f57474c3e9ad1cd092d5a4305",
            "7aa94a2a146f4bc0b5a7f4f97cc8facc",
            "5e19256884f34f62814749308d947df3",
            "23c108b16c8d4b6abc6a7fe278b5f5e8",
            "a8ad705415c34f18adcabe48b6299b78",
            "554c158931794bc7935a974444495eda",
            "4ac990bef829453fb941fbf5616a6e7e",
            "3f4ed28a640347ea86e63b6f9fe43f46",
            "ec057469377b4f5fb6573327d86856b7",
            "e099f46dd35a4fcfafe0379ec6b8bead",
            "b19fc8c745db43cab305f177b880c571",
            "37c980a7be2e4a50a74516d75de81cf5",
            "e5e569ad091b4f6799d616b16d4ae643",
            "dd3a21058b3d417b820f9a0cf0f8da5c",
            "ad7c7119459f458e99df420497613eb2",
            "b2af8895e0634556af637d791cfb62a2",
            "40db8d04ca8b4726956e8e5efad1f795",
            "7bdcbc9de68444ffa3036b15372e4d37",
            "f41ba76929c64f7da894e461e62c52ee",
            "ef1ad5670ab4467b810bc6e71fb88730",
            "4a7f95c1e1d740f5b1618a42f049c878",
            "087f73afa6bb482e8a6c4c192709b572",
            "bb10d54804504da696bf4cbf65e8e14a",
            "f38b570cf2f54f5a985887b1dbbe3ba0",
            "7cb1960e1cd94d28935b86b5acba0cea",
            "b4347e22331d46e68f49544db052ad22",
            "d471d90b5db44953aefb8a4e03fe9758",
            "887288876c29489fbafc32c4a94f10a5",
            "40ba8b0d65de450b8bd945c3a9607467",
            "26ce5818cbac4f41b53826647471f697",
            "7d38ced576e640cf968c3a714aa32f0d",
            "014fdfefe3114ad0beffdc1b0193af02",
            "3be75b1e9e844197884e43c833b286b0",
            "83f3177a5bf1459a9f768c203d08a26c"
          ]
        },
        "id": "cxdYF3BCdQyF",
        "outputId": "40b86331-6ae9-44c7-faae-1670ab2c0702"
      },
      "outputs": [
        {
          "name": "stdout",
          "output_type": "stream",
          "text": [
            "Downloading http://yann.lecun.com/exdb/mnist/train-images-idx3-ubyte.gz\n",
            "Downloading http://yann.lecun.com/exdb/mnist/train-images-idx3-ubyte.gz to data/MNIST/raw/train-images-idx3-ubyte.gz\n"
          ]
        },
        {
          "data": {
            "application/vnd.jupyter.widget-view+json": {
              "model_id": "24925b31fe5248b2be483225cb3132e0",
              "version_major": 2,
              "version_minor": 0
            },
            "text/plain": [
              "  0%|          | 0/9912422 [00:00<?, ?it/s]"
            ]
          },
          "metadata": {},
          "output_type": "display_data"
        },
        {
          "name": "stdout",
          "output_type": "stream",
          "text": [
            "Extracting data/MNIST/raw/train-images-idx3-ubyte.gz to data/MNIST/raw\n",
            "\n",
            "Downloading http://yann.lecun.com/exdb/mnist/train-labels-idx1-ubyte.gz\n",
            "Downloading http://yann.lecun.com/exdb/mnist/train-labels-idx1-ubyte.gz to data/MNIST/raw/train-labels-idx1-ubyte.gz\n"
          ]
        },
        {
          "data": {
            "application/vnd.jupyter.widget-view+json": {
              "model_id": "7aa94a2a146f4bc0b5a7f4f97cc8facc",
              "version_major": 2,
              "version_minor": 0
            },
            "text/plain": [
              "  0%|          | 0/28881 [00:00<?, ?it/s]"
            ]
          },
          "metadata": {},
          "output_type": "display_data"
        },
        {
          "name": "stdout",
          "output_type": "stream",
          "text": [
            "Extracting data/MNIST/raw/train-labels-idx1-ubyte.gz to data/MNIST/raw\n",
            "\n",
            "Downloading http://yann.lecun.com/exdb/mnist/t10k-images-idx3-ubyte.gz\n",
            "Downloading http://yann.lecun.com/exdb/mnist/t10k-images-idx3-ubyte.gz to data/MNIST/raw/t10k-images-idx3-ubyte.gz\n"
          ]
        },
        {
          "data": {
            "application/vnd.jupyter.widget-view+json": {
              "model_id": "e5e569ad091b4f6799d616b16d4ae643",
              "version_major": 2,
              "version_minor": 0
            },
            "text/plain": [
              "  0%|          | 0/1648877 [00:00<?, ?it/s]"
            ]
          },
          "metadata": {},
          "output_type": "display_data"
        },
        {
          "name": "stdout",
          "output_type": "stream",
          "text": [
            "Extracting data/MNIST/raw/t10k-images-idx3-ubyte.gz to data/MNIST/raw\n",
            "\n",
            "Downloading http://yann.lecun.com/exdb/mnist/t10k-labels-idx1-ubyte.gz\n",
            "Downloading http://yann.lecun.com/exdb/mnist/t10k-labels-idx1-ubyte.gz to data/MNIST/raw/t10k-labels-idx1-ubyte.gz\n"
          ]
        },
        {
          "data": {
            "application/vnd.jupyter.widget-view+json": {
              "model_id": "f38b570cf2f54f5a985887b1dbbe3ba0",
              "version_major": 2,
              "version_minor": 0
            },
            "text/plain": [
              "  0%|          | 0/4542 [00:00<?, ?it/s]"
            ]
          },
          "metadata": {},
          "output_type": "display_data"
        },
        {
          "name": "stdout",
          "output_type": "stream",
          "text": [
            "Extracting data/MNIST/raw/t10k-labels-idx1-ubyte.gz to data/MNIST/raw\n",
            "\n"
          ]
        }
      ],
      "source": [
        "# torchvision contains convinience functions for popular datasets\n",
        "ds_train = datasets.MNIST('data', train=True, download=True)"
      ]
    },
    {
      "cell_type": "code",
      "execution_count": null,
      "metadata": {
        "colab": {
          "base_uri": "https://localhost:8080/",
          "height": 155
        },
        "id": "JB6gpYbddQyG",
        "outputId": "6a455cf3-429a-4d95-9f8a-b9ebd542698d"
      },
      "outputs": [
        {
          "name": "stdout",
          "output_type": "stream",
          "text": [
            "(<PIL.Image.Image image mode=L size=28x28 at 0x7F59CCA475E0>, 5)\n"
          ]
        },
        {
          "data": {
            "image/png": "[encoded data removed]",
            "text/plain": [
              "<PIL.Image.Image image mode=L size=120x120 at 0x7F594D635280>"
            ]
          },
          "execution_count": 3,
          "metadata": {},
          "output_type": "execute_result"
        }
      ],
      "source": [
        "# if we index this dataset, we get a single data point: a PIL image and an Integer\n",
        "print(ds_train[0])\n",
        "ds_train[0][0].resize((120,120))"
      ]
    },
    {
      "cell_type": "markdown",
      "metadata": {
        "id": "StNRlFApdQyG"
      },
      "source": [
        "Let's transform the data to something that our Pytorch models will understand\n",
        "for this purpose, we can supply a transform function to the datase"
      ]
    },
    {
      "cell_type": "code",
      "execution_count": null,
      "metadata": {
        "id": "dUq1R6mbdQyH"
      },
      "outputs": [],
      "source": [
        "transform = transforms.Compose([\n",
        "    transforms.ToTensor(),\n",
        "    transforms.Normalize((0.0), (1.0))\n",
        "])\n",
        "ds_train = datasets.MNIST('data', train=True, download=True, transform=transform)"
      ]
    },
    {
      "cell_type": "markdown",
      "metadata": {
        "id": "t9C_wWT2dQyH"
      },
      "source": [
        "The image is now a torch tensor"
      ]
    },
    {
      "cell_type": "code",
      "execution_count": null,
      "metadata": {
        "colab": {
          "base_uri": "https://localhost:8080/"
        },
        "id": "084qC-kjdQyI",
        "outputId": "c7db74a2-73ca-4c5f-db91-6818b49b3e39"
      },
      "outputs": [
        {
          "data": {
            "text/plain": [
              "torch.Tensor"
            ]
          },
          "execution_count": 5,
          "metadata": {},
          "output_type": "execute_result"
        }
      ],
      "source": [
        "type(ds_train[0][0])"
      ]
    },
    {
      "cell_type": "markdown",
      "metadata": {
        "id": "asrefjPmdQyI"
      },
      "source": [
        "The normalization is something you learned about in the lecture. Normalizing with $\\mu=0, \\sigma=1$ corresponds to no normalization. Let's compute the proper normalization constants!"
      ]
    },
    {
      "cell_type": "code",
      "execution_count": null,
      "metadata": {
        "id": "vBMG4KBndQyJ"
      },
      "outputs": [],
      "source": [
        "# lets get only the images \n",
        "ims_train = ds_train.data\n",
        "ims_train = ims_train.float() / 255."
      ]
    },
    {
      "cell_type": "code",
      "execution_count": null,
      "metadata": {
        "colab": {
          "base_uri": "https://localhost:8080/"
        },
        "id": "XLsR9B9QdQyJ",
        "outputId": "5d095b6f-a0d1-4601-e06b-a3549b07f4cc"
      },
      "outputs": [
        {
          "name": "stdout",
          "output_type": "stream",
          "text": [
            "tensor(0.3015)\n",
            "tensor(0.1307)\n"
          ]
        }
      ],
      "source": [
        "#########################################################################\n",
        "# Task #1: Calculate the mean and std of MNIST\n",
        "# https://pytorch.org/docs/stable/\n",
        "#########################################################################\n",
        "mu = 0.0\n",
        "std = 0.0\n",
        "\n",
        "for img in ims_train:\n",
        "  mu += img.mean()\n",
        "  std += img.std()\n",
        "\n",
        "mu /= len(ims_train)\n",
        "std /= len(ims_train)\n",
        "print(std)\n",
        "print(mu)\n"
      ]
    },
    {
      "cell_type": "code",
      "execution_count": null,
      "metadata": {
        "id": "7g7gwd_jdQyJ"
      },
      "outputs": [],
      "source": [
        "transform = transforms.Compose([\n",
        "    transforms.ToTensor(),\n",
        "    transforms.Normalize(mu, std)\n",
        "])\n",
        "ds_train = datasets.MNIST('data', train=True, download=True, transform=transform)\n",
        "ds_test = datasets.MNIST('data', train=False, download=True, transform=transform)"
      ]
    },
    {
      "cell_type": "markdown",
      "metadata": {
        "id": "egvb0FtHdQyK"
      },
      "source": [
        "Next, we want to receive mini-batches, not only single data points.\n",
        "We use PyTorch's DataLoader class. Build a dataloader with a batch size of 64 and 2 workers (number of subprocess that peform the dataloading. Important: you need to shuffle the training data, not the test data."
      ]
    },
    {
      "cell_type": "code",
      "execution_count": null,
      "metadata": {
        "id": "fUM12BvZdQyK"
      },
      "outputs": [],
      "source": [
        "#########################################################################\n",
        "# Task #2: Build a dataloader for both train and test data.\n",
        "#########################################################################\n",
        "dl_train = DataLoader(ds_train, batch_size=64, shuffle=True, num_workers=2)\n",
        "dl_test = DataLoader(ds_test, batch_size=64, shuffle=False, num_workers=2)"
      ]
    },
    {
      "cell_type": "markdown",
      "metadata": {
        "id": "bl2M-ERbdQyK"
      },
      "source": [
        "## MLP in Pytorch\n",
        "\n",
        "Ok, the dataloading works. Let's build our model, PyTorch makes this very easy. We will build replicate the model from our last exercises."
      ]
    },
    {
      "cell_type": "code",
      "execution_count": null,
      "metadata": {
        "id": "aj51B723dQyK"
      },
      "outputs": [],
      "source": [
        "# These are the parameters to be used\n",
        "nInput = 784\n",
        "nOutput = 10\n",
        "nLayer = 1\n",
        "nHidden = 64\n",
        "act_fn = nn.ReLU()"
      ]
    },
    {
      "cell_type": "code",
      "execution_count": null,
      "metadata": {
        "id": "iZIvJHPrdQyL"
      },
      "outputs": [],
      "source": [
        "#########################################################################\n",
        "# Task #3: Implement the __init__ of the MLP class. \n",
        "# insert the activation after every linear layer. Important: the number of \n",
        "# hidden layers should be variable!\n",
        "#########################################################################\n",
        "\n",
        "class MLP(nn.Module):\n",
        "    def __init__(self, nInput, nOutput, nLayer, nHidden, act_fn):\n",
        "        super(MLP, self).__init__()\n",
        "        layers = [] \n",
        "        \n",
        "        ##### implement this part #####\n",
        "        layers.append(nn.Linear(nInput, nHidden))\n",
        "        layers.append(act_fn)\n",
        "        for i in range(nLayer):\n",
        "          layers.append(nn.Linear(nHidden, nHidden))\n",
        "          layers.append(act_fn)\n",
        "        layers.append(nn.Linear(nHidden, nOutput))\n",
        "        \n",
        "        ###############################\n",
        "        \n",
        "        layers += [nn.LogSoftmax(dim=1)]\n",
        "        self.model = nn.Sequential(*layers)\n",
        "\n",
        "    def forward(self, x):\n",
        "        x = torch.flatten(x, 1)\n",
        "        return self.model(x)"
      ]
    },
    {
      "cell_type": "code",
      "execution_count": null,
      "metadata": {
        "colab": {
          "base_uri": "https://localhost:8080/"
        },
        "id": "PzPsBIk9dQyL",
        "outputId": "95fc8ef5-bc77-4414-9047-4fabe5ad640a",
        "scrolled": true
      },
      "outputs": [
        {
          "data": {
            "text/plain": [
              "torch.Size([1, 10])"
            ]
          },
          "execution_count": 19,
          "metadata": {},
          "output_type": "execute_result"
        }
      ],
      "source": [
        "# Let's test if the forward pass works\n",
        "# this should print torch.Size([1, 10])\n",
        "t = torch.randn(1,1,28,28)\n",
        "mlp = MLP(nInput, nOutput, nLayer, nHidden, act_fn)\n",
        "mlp(t).shape"
      ]
    },
    {
      "cell_type": "code",
      "execution_count": null,
      "metadata": {
        "id": "O_xP3i3_dQyL"
      },
      "outputs": [],
      "source": [
        "# Task 4: Define the device \n",
        "device = torch.device(\"cuda:0\")"
      ]
    },
    {
      "cell_type": "markdown",
      "metadata": {
        "id": "c6gEPwPZdQyL"
      },
      "source": [
        "We already implemented the test function for you"
      ]
    },
    {
      "cell_type": "code",
      "execution_count": null,
      "metadata": {
        "id": "tC5R3JW0dQyL"
      },
      "outputs": [],
      "source": [
        "def test(model, dl_test, device=device):\n",
        "    model.eval()\n",
        "    test_loss = 0\n",
        "    correct = 0\n",
        "    with torch.no_grad():\n",
        "        for data, target in dl_test:\n",
        "            data, target = data.to(device), target.to(device)\n",
        "            output = model(data)\n",
        "            test_loss += F.nll_loss(output, target, reduction='sum').item()  # sum up batch loss\n",
        "            pred = output.argmax(dim=1, keepdim=True)  # get the index of the max log-probability\n",
        "            correct += pred.eq(target.view_as(pred)).sum().item()\n",
        "\n",
        "    test_loss /= len(dl_test.dataset)\n",
        "\n",
        "    print('\\nTest set: Average loss: {:.4f}, Accuracy: {}/{} ({:.3f}%)\\n'.format(\n",
        "        test_loss, correct, len(dl_test.dataset),\n",
        "        100. * correct / len(dl_test.dataset)))"
      ]
    },
    {
      "cell_type": "markdown",
      "metadata": {
        "id": "ZUJMMFpNdQyM"
      },
      "source": [
        "Now we only need to implement the training and we are good to go"
      ]
    },
    {
      "cell_type": "code",
      "execution_count": null,
      "metadata": {
        "id": "WZa9kWqEdQyM"
      },
      "outputs": [],
      "source": [
        "#########################################################################\n",
        "# Task #5: Implement the missing part of the training function. As a loss function we want to use cross-entropy\n",
        "# The model already has a Log-softmax as the last layer, hence, we only need to apply the \n",
        "# negative log likelihood loss. It can be called with F.nll_loss().\n",
        "#########################################################################\n",
        "\n",
        "def train(model, dl_train, optimizer, epoch, log_interval=100, device=device):\n",
        "    model.train()\n",
        "    correct = 0\n",
        "    for batch_idx, (data, target) in enumerate(dl_train):\n",
        "        data, target = data.to(device), target.to(device)\n",
        "        \n",
        "        # first we need to zero the gradient, otherwise PyTorch would accumulate them\n",
        "        optimizer.zero_grad()         \n",
        "        \n",
        "        ##### IMPLEMENT HERE ####\n",
        "        output = model(data)\n",
        "        loss = F.nll_loss(output, target)\n",
        "        loss.backward()\n",
        "        optimizer.step()\n",
        "        ##########################\n",
        "\n",
        "        # stats\n",
        "        pred = output.argmax(dim=1, keepdim=True)  # get the index of the max log-probability\n",
        "        correct += pred.eq(target.view_as(pred)).sum().item()\n",
        "\n",
        "        if batch_idx % log_interval == 0:\n",
        "            print('Train Epoch: {} [{}/{} ({:.0f}%)]\\tLoss: {:.6f}'.format(\n",
        "                epoch, batch_idx * len(data), len(dl_train.dataset),\n",
        "                100. * batch_idx / len(dl_train), loss.item()))\n",
        "\n",
        "    print('\\nTrain set: Average loss: {:.4f}, Accuracy: {}/{} ({:.1f}%)\\n'.format(\n",
        "        loss, correct, len(dl_train.dataset),\n",
        "        100. * correct / len(dl_train.dataset)))"
      ]
    },
    {
      "cell_type": "code",
      "execution_count": null,
      "metadata": {
        "id": "gGxK1WEVdQyM"
      },
      "outputs": [],
      "source": [
        "# reinitialize the mlp, so we can play with parameters right here\n",
        "mlp = MLP(nInput, nOutput, nLayer, nHidden, act_fn).to(device)\n",
        "# Task 6: Define the optimizer here\n",
        "optimizer = optim.Adam(mlp.parameters(), lr = 1e-3)"
      ]
    },
    {
      "cell_type": "code",
      "execution_count": null,
      "metadata": {
        "colab": {
          "base_uri": "https://localhost:8080/"
        },
        "id": "zavxr3A-dQyM",
        "outputId": "3c574487-dd6e-4f39-9b9e-f439bb2ea171",
        "scrolled": true
      },
      "outputs": [
        {
          "name": "stdout",
          "output_type": "stream",
          "text": [
            "Train Epoch: 1 [0/60000 (0%)]\tLoss: 2.328873\n",
            "Train Epoch: 1 [6400/60000 (11%)]\tLoss: 0.540282\n",
            "Train Epoch: 1 [12800/60000 (21%)]\tLoss: 0.341547\n",
            "Train Epoch: 1 [19200/60000 (32%)]\tLoss: 0.275988\n",
            "Train Epoch: 1 [25600/60000 (43%)]\tLoss: 0.286142\n",
            "Train Epoch: 1 [32000/60000 (53%)]\tLoss: 0.504941\n",
            "Train Epoch: 1 [38400/60000 (64%)]\tLoss: 0.285996\n",
            "Train Epoch: 1 [44800/60000 (75%)]\tLoss: 0.053528\n",
            "Train Epoch: 1 [51200/60000 (85%)]\tLoss: 0.113896\n",
            "Train Epoch: 1 [57600/60000 (96%)]\tLoss: 0.225026\n",
            "\n",
            "Train set: Average loss: 0.1935, Accuracy: 54674/60000 (91.1%)\n",
            "\n",
            "\n",
            "Test set: Average loss: 0.1508, Accuracy: 9538/10000 (95.380%)\n",
            "\n",
            "Train Epoch: 2 [0/60000 (0%)]\tLoss: 0.261280\n",
            "Train Epoch: 2 [6400/60000 (11%)]\tLoss: 0.118293\n",
            "Train Epoch: 2 [12800/60000 (21%)]\tLoss: 0.085008\n",
            "Train Epoch: 2 [19200/60000 (32%)]\tLoss: 0.190546\n",
            "Train Epoch: 2 [25600/60000 (43%)]\tLoss: 0.057058\n",
            "Train Epoch: 2 [32000/60000 (53%)]\tLoss: 0.186861\n",
            "Train Epoch: 2 [38400/60000 (64%)]\tLoss: 0.074396\n",
            "Train Epoch: 2 [44800/60000 (75%)]\tLoss: 0.249071\n",
            "Train Epoch: 2 [51200/60000 (85%)]\tLoss: 0.187691\n",
            "Train Epoch: 2 [57600/60000 (96%)]\tLoss: 0.036057\n",
            "\n",
            "Train set: Average loss: 0.2671, Accuracy: 57504/60000 (95.8%)\n",
            "\n",
            "\n",
            "Test set: Average loss: 0.1265, Accuracy: 9607/10000 (96.070%)\n",
            "\n",
            "Train Epoch: 3 [0/60000 (0%)]\tLoss: 0.180773\n",
            "Train Epoch: 3 [6400/60000 (11%)]\tLoss: 0.044829\n",
            "Train Epoch: 3 [12800/60000 (21%)]\tLoss: 0.033760\n",
            "Train Epoch: 3 [19200/60000 (32%)]\tLoss: 0.043073\n",
            "Train Epoch: 3 [25600/60000 (43%)]\tLoss: 0.039969\n",
            "Train Epoch: 3 [32000/60000 (53%)]\tLoss: 0.121408\n",
            "Train Epoch: 3 [38400/60000 (64%)]\tLoss: 0.135575\n",
            "Train Epoch: 3 [44800/60000 (75%)]\tLoss: 0.342464\n",
            "Train Epoch: 3 [51200/60000 (85%)]\tLoss: 0.041949\n",
            "Train Epoch: 3 [57600/60000 (96%)]\tLoss: 0.185053\n",
            "\n",
            "Train set: Average loss: 0.0497, Accuracy: 58145/60000 (96.9%)\n",
            "\n",
            "\n",
            "Test set: Average loss: 0.0998, Accuracy: 9683/10000 (96.830%)\n",
            "\n",
            "Train Epoch: 4 [0/60000 (0%)]\tLoss: 0.057380\n",
            "Train Epoch: 4 [6400/60000 (11%)]\tLoss: 0.070746\n",
            "Train Epoch: 4 [12800/60000 (21%)]\tLoss: 0.124498\n",
            "Train Epoch: 4 [19200/60000 (32%)]\tLoss: 0.038788\n",
            "Train Epoch: 4 [25600/60000 (43%)]\tLoss: 0.172673\n",
            "Train Epoch: 4 [32000/60000 (53%)]\tLoss: 0.194066\n",
            "Train Epoch: 4 [38400/60000 (64%)]\tLoss: 0.041655\n",
            "Train Epoch: 4 [44800/60000 (75%)]\tLoss: 0.175941\n",
            "Train Epoch: 4 [51200/60000 (85%)]\tLoss: 0.089963\n",
            "Train Epoch: 4 [57600/60000 (96%)]\tLoss: 0.055336\n",
            "\n",
            "Train set: Average loss: 0.0688, Accuracy: 58487/60000 (97.5%)\n",
            "\n",
            "\n",
            "Test set: Average loss: 0.0867, Accuracy: 9730/10000 (97.300%)\n",
            "\n",
            "Train Epoch: 5 [0/60000 (0%)]\tLoss: 0.119183\n",
            "Train Epoch: 5 [6400/60000 (11%)]\tLoss: 0.093811\n",
            "Train Epoch: 5 [12800/60000 (21%)]\tLoss: 0.048354\n",
            "Train Epoch: 5 [19200/60000 (32%)]\tLoss: 0.024902\n",
            "Train Epoch: 5 [25600/60000 (43%)]\tLoss: 0.049125\n",
            "Train Epoch: 5 [32000/60000 (53%)]\tLoss: 0.017084\n",
            "Train Epoch: 5 [38400/60000 (64%)]\tLoss: 0.114872\n",
            "Train Epoch: 5 [44800/60000 (75%)]\tLoss: 0.096103\n",
            "Train Epoch: 5 [51200/60000 (85%)]\tLoss: 0.109016\n",
            "Train Epoch: 5 [57600/60000 (96%)]\tLoss: 0.144570\n",
            "\n",
            "Train set: Average loss: 0.0218, Accuracy: 58766/60000 (97.9%)\n",
            "\n",
            "\n",
            "Test set: Average loss: 0.0911, Accuracy: 9719/10000 (97.190%)\n",
            "\n",
            "Train Epoch: 6 [0/60000 (0%)]\tLoss: 0.062364\n",
            "Train Epoch: 6 [6400/60000 (11%)]\tLoss: 0.022503\n",
            "Train Epoch: 6 [12800/60000 (21%)]\tLoss: 0.052440\n",
            "Train Epoch: 6 [19200/60000 (32%)]\tLoss: 0.067983\n",
            "Train Epoch: 6 [25600/60000 (43%)]\tLoss: 0.009258\n",
            "Train Epoch: 6 [32000/60000 (53%)]\tLoss: 0.069532\n",
            "Train Epoch: 6 [38400/60000 (64%)]\tLoss: 0.026261\n",
            "Train Epoch: 6 [44800/60000 (75%)]\tLoss: 0.052092\n",
            "Train Epoch: 6 [51200/60000 (85%)]\tLoss: 0.072482\n",
            "Train Epoch: 6 [57600/60000 (96%)]\tLoss: 0.076429\n",
            "\n",
            "Train set: Average loss: 0.0192, Accuracy: 58937/60000 (98.2%)\n",
            "\n",
            "\n",
            "Test set: Average loss: 0.0745, Accuracy: 9784/10000 (97.840%)\n",
            "\n",
            "Train Epoch: 7 [0/60000 (0%)]\tLoss: 0.093856\n",
            "Train Epoch: 7 [6400/60000 (11%)]\tLoss: 0.087622\n",
            "Train Epoch: 7 [12800/60000 (21%)]\tLoss: 0.047166\n",
            "Train Epoch: 7 [19200/60000 (32%)]\tLoss: 0.025454\n",
            "Train Epoch: 7 [25600/60000 (43%)]\tLoss: 0.035116\n",
            "Train Epoch: 7 [32000/60000 (53%)]\tLoss: 0.081949\n",
            "Train Epoch: 7 [38400/60000 (64%)]\tLoss: 0.008521\n",
            "Train Epoch: 7 [44800/60000 (75%)]\tLoss: 0.091629\n",
            "Train Epoch: 7 [51200/60000 (85%)]\tLoss: 0.030761\n",
            "Train Epoch: 7 [57600/60000 (96%)]\tLoss: 0.057596\n",
            "\n",
            "Train set: Average loss: 0.0967, Accuracy: 59039/60000 (98.4%)\n",
            "\n",
            "\n",
            "Test set: Average loss: 0.0881, Accuracy: 9744/10000 (97.440%)\n",
            "\n",
            "Train Epoch: 8 [0/60000 (0%)]\tLoss: 0.016479\n",
            "Train Epoch: 8 [6400/60000 (11%)]\tLoss: 0.028730\n",
            "Train Epoch: 8 [12800/60000 (21%)]\tLoss: 0.009702\n",
            "Train Epoch: 8 [19200/60000 (32%)]\tLoss: 0.003428\n",
            "Train Epoch: 8 [25600/60000 (43%)]\tLoss: 0.039549\n",
            "Train Epoch: 8 [32000/60000 (53%)]\tLoss: 0.029775\n",
            "Train Epoch: 8 [38400/60000 (64%)]\tLoss: 0.019662\n",
            "Train Epoch: 8 [44800/60000 (75%)]\tLoss: 0.003075\n",
            "Train Epoch: 8 [51200/60000 (85%)]\tLoss: 0.020968\n",
            "Train Epoch: 8 [57600/60000 (96%)]\tLoss: 0.163519\n",
            "\n",
            "Train set: Average loss: 0.0234, Accuracy: 59163/60000 (98.6%)\n",
            "\n",
            "\n",
            "Test set: Average loss: 0.0868, Accuracy: 9741/10000 (97.410%)\n",
            "\n",
            "Train Epoch: 9 [0/60000 (0%)]\tLoss: 0.179799\n",
            "Train Epoch: 9 [6400/60000 (11%)]\tLoss: 0.041979\n",
            "Train Epoch: 9 [12800/60000 (21%)]\tLoss: 0.004300\n",
            "Train Epoch: 9 [19200/60000 (32%)]\tLoss: 0.005765\n",
            "Train Epoch: 9 [25600/60000 (43%)]\tLoss: 0.037163\n",
            "Train Epoch: 9 [32000/60000 (53%)]\tLoss: 0.033776\n",
            "Train Epoch: 9 [38400/60000 (64%)]\tLoss: 0.025290\n",
            "Train Epoch: 9 [44800/60000 (75%)]\tLoss: 0.004060\n",
            "Train Epoch: 9 [51200/60000 (85%)]\tLoss: 0.067806\n",
            "Train Epoch: 9 [57600/60000 (96%)]\tLoss: 0.140546\n",
            "\n",
            "Train set: Average loss: 0.2040, Accuracy: 59249/60000 (98.7%)\n",
            "\n",
            "\n",
            "Test set: Average loss: 0.0828, Accuracy: 9780/10000 (97.800%)\n",
            "\n",
            "Train Epoch: 10 [0/60000 (0%)]\tLoss: 0.014218\n",
            "Train Epoch: 10 [6400/60000 (11%)]\tLoss: 0.005780\n",
            "Train Epoch: 10 [12800/60000 (21%)]\tLoss: 0.036702\n",
            "Train Epoch: 10 [19200/60000 (32%)]\tLoss: 0.039050\n",
            "Train Epoch: 10 [25600/60000 (43%)]\tLoss: 0.036023\n",
            "Train Epoch: 10 [32000/60000 (53%)]\tLoss: 0.003520\n",
            "Train Epoch: 10 [38400/60000 (64%)]\tLoss: 0.055476\n",
            "Train Epoch: 10 [44800/60000 (75%)]\tLoss: 0.004337\n",
            "Train Epoch: 10 [51200/60000 (85%)]\tLoss: 0.041452\n",
            "Train Epoch: 10 [57600/60000 (96%)]\tLoss: 0.008273\n",
            "\n",
            "Train set: Average loss: 0.0591, Accuracy: 59277/60000 (98.8%)\n",
            "\n",
            "\n",
            "Test set: Average loss: 0.0856, Accuracy: 9758/10000 (97.580%)\n",
            "\n"
          ]
        }
      ],
      "source": [
        "epochs = 10\n",
        "for epoch in range(1, epochs + 1):\n",
        "    train(mlp, dl_train, optimizer, epoch, log_interval=100)\n",
        "    test(mlp, dl_test)"
      ]
    },
    {
      "cell_type": "markdown",
      "metadata": {
        "id": "uEp06e-FdQyM"
      },
      "source": [
        "After training, you should see test accuracies of > 97% - this is the performance we saw in our last experiments with EDF. By they way, here we report test accuracy, the last exercises reported test error. Accuracy is simply (1 - error). Both metrics are commonly reported, there is no clear preference in literature for one or the other."
      ]
    },
    {
      "cell_type": "markdown",
      "metadata": {
        "id": "1v-N8mP-dQyM"
      },
      "source": [
        "## CNN in PyTorch\n",
        "Alright, we matched our prior performance. Let's surpass it!\n",
        "We will build a small CNN. The structure should be as follows\n",
        "\n",
        "| CNN Architecture                             \t|\n",
        "|----------------------------------------------\t|\n",
        "| Conv: $C_{in}=1, C_{out}=32, K=3, S=1, P=0$  \t|\n",
        "| ReLU                                         \t|\n",
        "| Conv: $C_{in}=32, C_{out}=64, K=3, S=1, P=0$ \t|\n",
        "| ReLU                                         \t|\n",
        "| MaxPool2d: $K=2, S=2, P=0$                   \t|\n",
        "| Dropout: $p=0.25$                            \t|\n",
        "| Linear: $C_{in}=9216, C_{out}=128$           \t|\n",
        "| ReLU                                         \t|\n",
        "| Dropout: $p=0.5$                             \t|\n",
        "| Linear: $C_{in}=128, C_{out}=10$             \t|\n",
        "| Log softmax (see above in MLP definition)    \t|\n",
        "\n",
        "The layers you will need are: \n",
        "\n",
        "`nn.Conv2d,  nn.Linear,  nn.Dropout, nn.MaxPool2d, nn.LogSoftmax, nn.Flatten`\n",
        "\n",
        "For layers with out parameters you can alternatively use function in the forward pass:  \n",
        "\n",
        "`F.max_pool2d, torch.flatten, F.log_softmax`"
      ]
    },
    {
      "cell_type": "code",
      "execution_count": null,
      "metadata": {
        "id": "9KbenKXtdQyM"
      },
      "outputs": [],
      "source": [
        "class PrinterModule(nn.Module):\n",
        "    def forward(x):\n",
        "        print(x.shape)\n",
        "        return x"
      ]
    },
    {
      "cell_type": "code",
      "execution_count": null,
      "metadata": {
        "id": "s6VrevsgdQyN"
      },
      "outputs": [],
      "source": [
        "#########################################################################\n",
        "#Task 8: Implement the __init__ and forward method of the CNN class. \n",
        "# Hint: do not forget to flatten the appropriate dimension after the convolutional blocks. \n",
        "# A linear layers expect input of the size (B, H) with batch size B and feature size H\n",
        "#########################################################################\n",
        "\n",
        "class CNN(nn.Module):\n",
        "    def __init__(self):\n",
        "        super(CNN, self).__init__()\n",
        "        \n",
        "        self.layers = nn.Sequential(\n",
        "            nn.Conv2d(1, 32, kernel_size=3, stride=1),\n",
        "            nn.ReLU(),\n",
        "            nn.Conv2d(32, 64, kernel_size=3, stride=1),\n",
        "            nn.ReLU(),\n",
        "            nn.MaxPool2d(kernel_size=2, stride=2),\n",
        "            nn.Dropout(0.25),\n",
        "            nn.Flatten(),\n",
        "            nn.Linear(9216, 128),\n",
        "            nn.ReLU(),\n",
        "            nn.Dropout(0.5),\n",
        "            nn.Linear(128, 10),\n",
        "            nn.LogSoftmax(dim=1)\n",
        "        )\n",
        "\n",
        "\n",
        "    def forward(self, x):\n",
        "        return self.layers(x)"
      ]
    },
    {
      "cell_type": "code",
      "execution_count": null,
      "metadata": {
        "colab": {
          "base_uri": "https://localhost:8080/"
        },
        "id": "BgyY-7kcdQyN",
        "outputId": "53feb78d-50d6-458c-cf8c-24d369eeeba5"
      },
      "outputs": [
        {
          "data": {
            "text/plain": [
              "CNN(\n",
              "  (layers): Sequential(\n",
              "    (0): Conv2d(1, 32, kernel_size=(3, 3), stride=(1, 1))\n",
              "    (1): ReLU()\n",
              "    (2): Conv2d(32, 64, kernel_size=(3, 3), stride=(1, 1))\n",
              "    (3): ReLU()\n",
              "    (4): MaxPool2d(kernel_size=2, stride=2, padding=0, dilation=1, ceil_mode=False)\n",
              "    (5): Dropout(p=0.25, inplace=False)\n",
              "    (6): Flatten(start_dim=1, end_dim=-1)\n",
              "    (7): Linear(in_features=9216, out_features=128, bias=True)\n",
              "    (8): ReLU()\n",
              "    (9): Dropout(p=0.5, inplace=False)\n",
              "    (10): Linear(in_features=128, out_features=10, bias=True)\n",
              "    (11): LogSoftmax(dim=1)\n",
              "  )\n",
              ")"
            ]
          },
          "execution_count": 47,
          "metadata": {},
          "output_type": "execute_result"
        }
      ],
      "source": [
        "# Let's test if the forward pass works\n",
        "# this should print torch.Size([1, 10])\n",
        "t = torch.randn(1,1,28,28)\n",
        "cnn = CNN()\n",
        "cnn(t).shape\n",
        "cnn.to(\"cuda:0\")"
      ]
    },
    {
      "cell_type": "markdown",
      "metadata": {
        "id": "sMisrYwvdQyN"
      },
      "source": [
        "Alright, let's train!"
      ]
    },
    {
      "cell_type": "code",
      "execution_count": null,
      "metadata": {
        "colab": {
          "background_save": true,
          "base_uri": "https://localhost:8080/"
        },
        "id": "RvGTjCMVdQyN",
        "scrolled": true,
        "outputId": "3099888e-bc41-4788-8d52-8c8eb3e44c06"
      },
      "outputs": [
        {
          "name": "stdout",
          "output_type": "stream",
          "text": [
            "Train Epoch: 1 [0/60000 (0%)]\tLoss: 2.305720\n",
            "Train Epoch: 1 [6400/60000 (11%)]\tLoss: 2.303870\n",
            "Train Epoch: 1 [12800/60000 (21%)]\tLoss: 2.310192\n",
            "Train Epoch: 1 [19200/60000 (32%)]\tLoss: 2.300348\n",
            "Train Epoch: 1 [25600/60000 (43%)]\tLoss: 2.320489\n",
            "Train Epoch: 1 [32000/60000 (53%)]\tLoss: 2.325141\n",
            "Train Epoch: 1 [38400/60000 (64%)]\tLoss: 2.329090\n",
            "Train Epoch: 1 [44800/60000 (75%)]\tLoss: 2.328270\n",
            "Train Epoch: 1 [51200/60000 (85%)]\tLoss: 2.304925\n",
            "Train Epoch: 1 [57600/60000 (96%)]\tLoss: 2.305226\n",
            "\n",
            "Train set: Average loss: 2.3022, Accuracy: 4620/60000 (7.7%)\n",
            "\n",
            "\n",
            "Test set: Average loss: 2.3111, Accuracy: 608/10000 (6.080%)\n",
            "\n",
            "Train Epoch: 2 [0/60000 (0%)]\tLoss: 2.311572\n",
            "Train Epoch: 2 [6400/60000 (11%)]\tLoss: 2.321532\n",
            "Train Epoch: 2 [12800/60000 (21%)]\tLoss: 2.303687\n",
            "Train Epoch: 2 [19200/60000 (32%)]\tLoss: 2.306122\n",
            "Train Epoch: 2 [25600/60000 (43%)]\tLoss: 2.336029\n",
            "Train Epoch: 2 [32000/60000 (53%)]\tLoss: 2.346738\n",
            "Train Epoch: 2 [38400/60000 (64%)]\tLoss: 2.292029\n",
            "Train Epoch: 2 [44800/60000 (75%)]\tLoss: 2.300632\n",
            "Train Epoch: 2 [51200/60000 (85%)]\tLoss: 2.319318\n",
            "Train Epoch: 2 [57600/60000 (96%)]\tLoss: 2.273012\n",
            "\n",
            "Train set: Average loss: 2.3016, Accuracy: 4550/60000 (7.6%)\n",
            "\n",
            "\n",
            "Test set: Average loss: 2.3111, Accuracy: 608/10000 (6.080%)\n",
            "\n",
            "Train Epoch: 3 [0/60000 (0%)]\tLoss: 2.304223\n",
            "Train Epoch: 3 [6400/60000 (11%)]\tLoss: 2.303297\n",
            "Train Epoch: 3 [12800/60000 (21%)]\tLoss: 2.305907\n",
            "Train Epoch: 3 [19200/60000 (32%)]\tLoss: 2.312772\n",
            "Train Epoch: 3 [25600/60000 (43%)]\tLoss: 2.299635\n",
            "Train Epoch: 3 [32000/60000 (53%)]\tLoss: 2.291506\n",
            "Train Epoch: 3 [38400/60000 (64%)]\tLoss: 2.301344\n",
            "Train Epoch: 3 [44800/60000 (75%)]\tLoss: 2.331536\n",
            "Train Epoch: 3 [51200/60000 (85%)]\tLoss: 2.308601\n",
            "Train Epoch: 3 [57600/60000 (96%)]\tLoss: 2.312004\n",
            "\n",
            "Train set: Average loss: 2.3051, Accuracy: 4616/60000 (7.7%)\n",
            "\n",
            "\n",
            "Test set: Average loss: 2.3111, Accuracy: 608/10000 (6.080%)\n",
            "\n",
            "Train Epoch: 4 [0/60000 (0%)]\tLoss: 2.315283\n",
            "Train Epoch: 4 [6400/60000 (11%)]\tLoss: 2.318878\n",
            "Train Epoch: 4 [12800/60000 (21%)]\tLoss: 2.301655\n",
            "Train Epoch: 4 [19200/60000 (32%)]\tLoss: 2.312966\n",
            "Train Epoch: 4 [25600/60000 (43%)]\tLoss: 2.325733\n",
            "Train Epoch: 4 [32000/60000 (53%)]\tLoss: 2.319543\n",
            "Train Epoch: 4 [38400/60000 (64%)]\tLoss: 2.307723\n",
            "Train Epoch: 4 [44800/60000 (75%)]\tLoss: 2.325472\n",
            "Train Epoch: 4 [51200/60000 (85%)]\tLoss: 2.301584\n",
            "Train Epoch: 4 [57600/60000 (96%)]\tLoss: 2.315533\n",
            "\n",
            "Train set: Average loss: 2.3266, Accuracy: 4645/60000 (7.7%)\n",
            "\n",
            "\n",
            "Test set: Average loss: 2.3111, Accuracy: 608/10000 (6.080%)\n",
            "\n",
            "Train Epoch: 5 [0/60000 (0%)]\tLoss: 2.319805\n",
            "Train Epoch: 5 [6400/60000 (11%)]\tLoss: 2.326718\n",
            "Train Epoch: 5 [12800/60000 (21%)]\tLoss: 2.311310\n",
            "Train Epoch: 5 [19200/60000 (32%)]\tLoss: 2.310771\n",
            "Train Epoch: 5 [25600/60000 (43%)]\tLoss: 2.288239\n",
            "Train Epoch: 5 [32000/60000 (53%)]\tLoss: 2.323711\n",
            "Train Epoch: 5 [38400/60000 (64%)]\tLoss: 2.318568\n",
            "Train Epoch: 5 [44800/60000 (75%)]\tLoss: 2.321109\n",
            "Train Epoch: 5 [51200/60000 (85%)]\tLoss: 2.311368\n",
            "Train Epoch: 5 [57600/60000 (96%)]\tLoss: 2.322630\n",
            "\n",
            "Train set: Average loss: 2.3146, Accuracy: 4772/60000 (8.0%)\n",
            "\n",
            "\n",
            "Test set: Average loss: 2.3111, Accuracy: 608/10000 (6.080%)\n",
            "\n"
          ]
        }
      ],
      "source": [
        "epochs = 5\n",
        "for epoch in range(1, epochs + 1):\n",
        "    train(cnn, dl_train, optimizer, epoch, log_interval=100)\n",
        "    test(cnn, dl_test)"
      ]
    }
  ],
  "metadata": {
    "accelerator": "GPU",
    "colab": {
      "provenance": [],
      "include_colab_link": true
    },
    "gpuClass": "standard",
    "kernelspec": {
      "display_name": "Python 3 (ipykernel)",
      "language": "python",
      "name": "python3"
    },
    "language_info": {
      "codemirror_mode": {
        "name": "ipython",
        "version": 3
      },
      "file_extension": ".py",
      "mimetype": "text/x-python",
      "name": "python",
      "nbconvert_exporter": "python",
      "pygments_lexer": "ipython3",
      "version": "3.10.6"
    },
    "widgets": {
      "application/vnd.jupyter.widget-state+json": {
        "014fdfefe3114ad0beffdc1b0193af02": {
          "model_module": "@jupyter-widgets/controls",
          "model_module_version": "1.5.0",
          "model_name": "ProgressStyleModel",
          "state": {
            "_model_module": "@jupyter-widgets/controls",
            "_model_module_version": "1.5.0",
            "_model_name": "ProgressStyleModel",
            "_view_count": null,
            "_view_module": "@jupyter-widgets/base",
            "_view_module_version": "1.2.0",
            "_view_name": "StyleView",
            "bar_color": null,
            "description_width": ""
          }
        },
        "02fb38b34cfa4375aaada4a0229991d7": {
          "model_module": "@jupyter-widgets/controls",
          "model_module_version": "1.5.0",
          "model_name": "FloatProgressModel",
          "state": {
            "_dom_classes": [],
            "_model_module": "@jupyter-widgets/controls",
            "_model_module_version": "1.5.0",
            "_model_name": "FloatProgressModel",
            "_view_count": null,
            "_view_module": "@jupyter-widgets/controls",
            "_view_module_version": "1.5.0",
            "_view_name": "ProgressView",
            "bar_style": "success",
            "description": "",
            "description_tooltip": null,
            "layout": "IPY_MODEL_61472b2704a748ea86d1a34154734aa2",
            "max": 9912422,
            "min": 0,
            "orientation": "horizontal",
            "style": "IPY_MODEL_a4e3954e7c904975849da760a3a4f7bb",
            "value": 9912422
          }
        },
        "087f73afa6bb482e8a6c4c192709b572": {
          "model_module": "@jupyter-widgets/base",
          "model_module_version": "1.2.0",
          "model_name": "LayoutModel",
          "state": {
            "_model_module": "@jupyter-widgets/base",
            "_model_module_version": "1.2.0",
            "_model_name": "LayoutModel",
            "_view_count": null,
            "_view_module": "@jupyter-widgets/base",
            "_view_module_version": "1.2.0",
            "_view_name": "LayoutView",
            "align_content": null,
            "align_items": null,
            "align_self": null,
            "border": null,
            "bottom": null,
            "display": null,
            "flex": null,
            "flex_flow": null,
            "grid_area": null,
            "grid_auto_columns": null,
            "grid_auto_flow": null,
            "grid_auto_rows": null,
            "grid_column": null,
            "grid_gap": null,
            "grid_row": null,
            "grid_template_areas": null,
            "grid_template_columns": null,
            "grid_template_rows": null,
            "height": null,
            "justify_content": null,
            "justify_items": null,
            "left": null,
            "margin": null,
            "max_height": null,
            "max_width": null,
            "min_height": null,
            "min_width": null,
            "object_fit": null,
            "object_position": null,
            "order": null,
            "overflow": null,
            "overflow_x": null,
            "overflow_y": null,
            "padding": null,
            "right": null,
            "top": null,
            "visibility": null,
            "width": null
          }
        },
        "19cecbb035904857ad623af952586a8c": {
          "model_module": "@jupyter-widgets/controls",
          "model_module_version": "1.5.0",
          "model_name": "HTMLModel",
          "state": {
            "_dom_classes": [],
            "_model_module": "@jupyter-widgets/controls",
            "_model_module_version": "1.5.0",
            "_model_name": "HTMLModel",
            "_view_count": null,
            "_view_module": "@jupyter-widgets/controls",
            "_view_module_version": "1.5.0",
            "_view_name": "HTMLView",
            "description": "",
            "description_tooltip": null,
            "layout": "IPY_MODEL_c32216c4eaec4f3a931a6959a4a578c6",
            "placeholder": "​",
            "style": "IPY_MODEL_297a5f7f57474c3e9ad1cd092d5a4305",
            "value": " 9912422/9912422 [00:00&lt;00:00, 183492414.35it/s]"
          }
        },
        "23c108b16c8d4b6abc6a7fe278b5f5e8": {
          "model_module": "@jupyter-widgets/controls",
          "model_module_version": "1.5.0",
          "model_name": "FloatProgressModel",
          "state": {
            "_dom_classes": [],
            "_model_module": "@jupyter-widgets/controls",
            "_model_module_version": "1.5.0",
            "_model_name": "FloatProgressModel",
            "_view_count": null,
            "_view_module": "@jupyter-widgets/controls",
            "_view_module_version": "1.5.0",
            "_view_name": "ProgressView",
            "bar_style": "success",
            "description": "",
            "description_tooltip": null,
            "layout": "IPY_MODEL_ec057469377b4f5fb6573327d86856b7",
            "max": 28881,
            "min": 0,
            "orientation": "horizontal",
            "style": "IPY_MODEL_e099f46dd35a4fcfafe0379ec6b8bead",
            "value": 28881
          }
        },
        "24925b31fe5248b2be483225cb3132e0": {
          "model_module": "@jupyter-widgets/controls",
          "model_module_version": "1.5.0",
          "model_name": "HBoxModel",
          "state": {
            "_dom_classes": [],
            "_model_module": "@jupyter-widgets/controls",
            "_model_module_version": "1.5.0",
            "_model_name": "HBoxModel",
            "_view_count": null,
            "_view_module": "@jupyter-widgets/controls",
            "_view_module_version": "1.5.0",
            "_view_name": "HBoxView",
            "box_style": "",
            "children": [
              "IPY_MODEL_4dde0eefcc4e470b82103401993547d2",
              "IPY_MODEL_02fb38b34cfa4375aaada4a0229991d7",
              "IPY_MODEL_19cecbb035904857ad623af952586a8c"
            ],
            "layout": "IPY_MODEL_c4737c430eab42008928eab15322596d"
          }
        },
        "26ce5818cbac4f41b53826647471f697": {
          "model_module": "@jupyter-widgets/controls",
          "model_module_version": "1.5.0",
          "model_name": "DescriptionStyleModel",
          "state": {
            "_model_module": "@jupyter-widgets/controls",
            "_model_module_version": "1.5.0",
            "_model_name": "DescriptionStyleModel",
            "_view_count": null,
            "_view_module": "@jupyter-widgets/base",
            "_view_module_version": "1.2.0",
            "_view_name": "StyleView",
            "description_width": ""
          }
        },
        "297a5f7f57474c3e9ad1cd092d5a4305": {
          "model_module": "@jupyter-widgets/controls",
          "model_module_version": "1.5.0",
          "model_name": "DescriptionStyleModel",
          "state": {
            "_model_module": "@jupyter-widgets/controls",
            "_model_module_version": "1.5.0",
            "_model_name": "DescriptionStyleModel",
            "_view_count": null,
            "_view_module": "@jupyter-widgets/base",
            "_view_module_version": "1.2.0",
            "_view_name": "StyleView",
            "description_width": ""
          }
        },
        "2f69f367d5e04dcf8ba3918762dc15ab": {
          "model_module": "@jupyter-widgets/base",
          "model_module_version": "1.2.0",
          "model_name": "LayoutModel",
          "state": {
            "_model_module": "@jupyter-widgets/base",
            "_model_module_version": "1.2.0",
            "_model_name": "LayoutModel",
            "_view_count": null,
            "_view_module": "@jupyter-widgets/base",
            "_view_module_version": "1.2.0",
            "_view_name": "LayoutView",
            "align_content": null,
            "align_items": null,
            "align_self": null,
            "border": null,
            "bottom": null,
            "display": null,
            "flex": null,
            "flex_flow": null,
            "grid_area": null,
            "grid_auto_columns": null,
            "grid_auto_flow": null,
            "grid_auto_rows": null,
            "grid_column": null,
            "grid_gap": null,
            "grid_row": null,
            "grid_template_areas": null,
            "grid_template_columns": null,
            "grid_template_rows": null,
            "height": null,
            "justify_content": null,
            "justify_items": null,
            "left": null,
            "margin": null,
            "max_height": null,
            "max_width": null,
            "min_height": null,
            "min_width": null,
            "object_fit": null,
            "object_position": null,
            "order": null,
            "overflow": null,
            "overflow_x": null,
            "overflow_y": null,
            "padding": null,
            "right": null,
            "top": null,
            "visibility": null,
            "width": null
          }
        },
        "37c980a7be2e4a50a74516d75de81cf5": {
          "model_module": "@jupyter-widgets/controls",
          "model_module_version": "1.5.0",
          "model_name": "DescriptionStyleModel",
          "state": {
            "_model_module": "@jupyter-widgets/controls",
            "_model_module_version": "1.5.0",
            "_model_name": "DescriptionStyleModel",
            "_view_count": null,
            "_view_module": "@jupyter-widgets/base",
            "_view_module_version": "1.2.0",
            "_view_name": "StyleView",
            "description_width": ""
          }
        },
        "3be75b1e9e844197884e43c833b286b0": {
          "model_module": "@jupyter-widgets/base",
          "model_module_version": "1.2.0",
          "model_name": "LayoutModel",
          "state": {
            "_model_module": "@jupyter-widgets/base",
            "_model_module_version": "1.2.0",
            "_model_name": "LayoutModel",
            "_view_count": null,
            "_view_module": "@jupyter-widgets/base",
            "_view_module_version": "1.2.0",
            "_view_name": "LayoutView",
            "align_content": null,
            "align_items": null,
            "align_self": null,
            "border": null,
            "bottom": null,
            "display": null,
            "flex": null,
            "flex_flow": null,
            "grid_area": null,
            "grid_auto_columns": null,
            "grid_auto_flow": null,
            "grid_auto_rows": null,
            "grid_column": null,
            "grid_gap": null,
            "grid_row": null,
            "grid_template_areas": null,
            "grid_template_columns": null,
            "grid_template_rows": null,
            "height": null,
            "justify_content": null,
            "justify_items": null,
            "left": null,
            "margin": null,
            "max_height": null,
            "max_width": null,
            "min_height": null,
            "min_width": null,
            "object_fit": null,
            "object_position": null,
            "order": null,
            "overflow": null,
            "overflow_x": null,
            "overflow_y": null,
            "padding": null,
            "right": null,
            "top": null,
            "visibility": null,
            "width": null
          }
        },
        "3f4ed28a640347ea86e63b6f9fe43f46": {
          "model_module": "@jupyter-widgets/controls",
          "model_module_version": "1.5.0",
          "model_name": "DescriptionStyleModel",
          "state": {
            "_model_module": "@jupyter-widgets/controls",
            "_model_module_version": "1.5.0",
            "_model_name": "DescriptionStyleModel",
            "_view_count": null,
            "_view_module": "@jupyter-widgets/base",
            "_view_module_version": "1.2.0",
            "_view_name": "StyleView",
            "description_width": ""
          }
        },
        "40ba8b0d65de450b8bd945c3a9607467": {
          "model_module": "@jupyter-widgets/base",
          "model_module_version": "1.2.0",
          "model_name": "LayoutModel",
          "state": {
            "_model_module": "@jupyter-widgets/base",
            "_model_module_version": "1.2.0",
            "_model_name": "LayoutModel",
            "_view_count": null,
            "_view_module": "@jupyter-widgets/base",
            "_view_module_version": "1.2.0",
            "_view_name": "LayoutView",
            "align_content": null,
            "align_items": null,
            "align_self": null,
            "border": null,
            "bottom": null,
            "display": null,
            "flex": null,
            "flex_flow": null,
            "grid_area": null,
            "grid_auto_columns": null,
            "grid_auto_flow": null,
            "grid_auto_rows": null,
            "grid_column": null,
            "grid_gap": null,
            "grid_row": null,
            "grid_template_areas": null,
            "grid_template_columns": null,
            "grid_template_rows": null,
            "height": null,
            "justify_content": null,
            "justify_items": null,
            "left": null,
            "margin": null,
            "max_height": null,
            "max_width": null,
            "min_height": null,
            "min_width": null,
            "object_fit": null,
            "object_position": null,
            "order": null,
            "overflow": null,
            "overflow_x": null,
            "overflow_y": null,
            "padding": null,
            "right": null,
            "top": null,
            "visibility": null,
            "width": null
          }
        },
        "40db8d04ca8b4726956e8e5efad1f795": {
          "model_module": "@jupyter-widgets/base",
          "model_module_version": "1.2.0",
          "model_name": "LayoutModel",
          "state": {
            "_model_module": "@jupyter-widgets/base",
            "_model_module_version": "1.2.0",
            "_model_name": "LayoutModel",
            "_view_count": null,
            "_view_module": "@jupyter-widgets/base",
            "_view_module_version": "1.2.0",
            "_view_name": "LayoutView",
            "align_content": null,
            "align_items": null,
            "align_self": null,
            "border": null,
            "bottom": null,
            "display": null,
            "flex": null,
            "flex_flow": null,
            "grid_area": null,
            "grid_auto_columns": null,
            "grid_auto_flow": null,
            "grid_auto_rows": null,
            "grid_column": null,
            "grid_gap": null,
            "grid_row": null,
            "grid_template_areas": null,
            "grid_template_columns": null,
            "grid_template_rows": null,
            "height": null,
            "justify_content": null,
            "justify_items": null,
            "left": null,
            "margin": null,
            "max_height": null,
            "max_width": null,
            "min_height": null,
            "min_width": null,
            "object_fit": null,
            "object_position": null,
            "order": null,
            "overflow": null,
            "overflow_x": null,
            "overflow_y": null,
            "padding": null,
            "right": null,
            "top": null,
            "visibility": null,
            "width": null
          }
        },
        "4a7f95c1e1d740f5b1618a42f049c878": {
          "model_module": "@jupyter-widgets/controls",
          "model_module_version": "1.5.0",
          "model_name": "ProgressStyleModel",
          "state": {
            "_model_module": "@jupyter-widgets/controls",
            "_model_module_version": "1.5.0",
            "_model_name": "ProgressStyleModel",
            "_view_count": null,
            "_view_module": "@jupyter-widgets/base",
            "_view_module_version": "1.2.0",
            "_view_name": "StyleView",
            "bar_color": null,
            "description_width": ""
          }
        },
        "4ac990bef829453fb941fbf5616a6e7e": {
          "model_module": "@jupyter-widgets/base",
          "model_module_version": "1.2.0",
          "model_name": "LayoutModel",
          "state": {
            "_model_module": "@jupyter-widgets/base",
            "_model_module_version": "1.2.0",
            "_model_name": "LayoutModel",
            "_view_count": null,
            "_view_module": "@jupyter-widgets/base",
            "_view_module_version": "1.2.0",
            "_view_name": "LayoutView",
            "align_content": null,
            "align_items": null,
            "align_self": null,
            "border": null,
            "bottom": null,
            "display": null,
            "flex": null,
            "flex_flow": null,
            "grid_area": null,
            "grid_auto_columns": null,
            "grid_auto_flow": null,
            "grid_auto_rows": null,
            "grid_column": null,
            "grid_gap": null,
            "grid_row": null,
            "grid_template_areas": null,
            "grid_template_columns": null,
            "grid_template_rows": null,
            "height": null,
            "justify_content": null,
            "justify_items": null,
            "left": null,
            "margin": null,
            "max_height": null,
            "max_width": null,
            "min_height": null,
            "min_width": null,
            "object_fit": null,
            "object_position": null,
            "order": null,
            "overflow": null,
            "overflow_x": null,
            "overflow_y": null,
            "padding": null,
            "right": null,
            "top": null,
            "visibility": null,
            "width": null
          }
        },
        "4dde0eefcc4e470b82103401993547d2": {
          "model_module": "@jupyter-widgets/controls",
          "model_module_version": "1.5.0",
          "model_name": "HTMLModel",
          "state": {
            "_dom_classes": [],
            "_model_module": "@jupyter-widgets/controls",
            "_model_module_version": "1.5.0",
            "_model_name": "HTMLModel",
            "_view_count": null,
            "_view_module": "@jupyter-widgets/controls",
            "_view_module_version": "1.5.0",
            "_view_name": "HTMLView",
            "description": "",
            "description_tooltip": null,
            "layout": "IPY_MODEL_2f69f367d5e04dcf8ba3918762dc15ab",
            "placeholder": "​",
            "style": "IPY_MODEL_f522b0f2f37c46f287df54c6e3e82b48",
            "value": "100%"
          }
        },
        "554c158931794bc7935a974444495eda": {
          "model_module": "@jupyter-widgets/base",
          "model_module_version": "1.2.0",
          "model_name": "LayoutModel",
          "state": {
            "_model_module": "@jupyter-widgets/base",
            "_model_module_version": "1.2.0",
            "_model_name": "LayoutModel",
            "_view_count": null,
            "_view_module": "@jupyter-widgets/base",
            "_view_module_version": "1.2.0",
            "_view_name": "LayoutView",
            "align_content": null,
            "align_items": null,
            "align_self": null,
            "border": null,
            "bottom": null,
            "display": null,
            "flex": null,
            "flex_flow": null,
            "grid_area": null,
            "grid_auto_columns": null,
            "grid_auto_flow": null,
            "grid_auto_rows": null,
            "grid_column": null,
            "grid_gap": null,
            "grid_row": null,
            "grid_template_areas": null,
            "grid_template_columns": null,
            "grid_template_rows": null,
            "height": null,
            "justify_content": null,
            "justify_items": null,
            "left": null,
            "margin": null,
            "max_height": null,
            "max_width": null,
            "min_height": null,
            "min_width": null,
            "object_fit": null,
            "object_position": null,
            "order": null,
            "overflow": null,
            "overflow_x": null,
            "overflow_y": null,
            "padding": null,
            "right": null,
            "top": null,
            "visibility": null,
            "width": null
          }
        },
        "5e19256884f34f62814749308d947df3": {
          "model_module": "@jupyter-widgets/controls",
          "model_module_version": "1.5.0",
          "model_name": "HTMLModel",
          "state": {
            "_dom_classes": [],
            "_model_module": "@jupyter-widgets/controls",
            "_model_module_version": "1.5.0",
            "_model_name": "HTMLModel",
            "_view_count": null,
            "_view_module": "@jupyter-widgets/controls",
            "_view_module_version": "1.5.0",
            "_view_name": "HTMLView",
            "description": "",
            "description_tooltip": null,
            "layout": "IPY_MODEL_4ac990bef829453fb941fbf5616a6e7e",
            "placeholder": "​",
            "style": "IPY_MODEL_3f4ed28a640347ea86e63b6f9fe43f46",
            "value": "100%"
          }
        },
        "61472b2704a748ea86d1a34154734aa2": {
          "model_module": "@jupyter-widgets/base",
          "model_module_version": "1.2.0",
          "model_name": "LayoutModel",
          "state": {
            "_model_module": "@jupyter-widgets/base",
            "_model_module_version": "1.2.0",
            "_model_name": "LayoutModel",
            "_view_count": null,
            "_view_module": "@jupyter-widgets/base",
            "_view_module_version": "1.2.0",
            "_view_name": "LayoutView",
            "align_content": null,
            "align_items": null,
            "align_self": null,
            "border": null,
            "bottom": null,
            "display": null,
            "flex": null,
            "flex_flow": null,
            "grid_area": null,
            "grid_auto_columns": null,
            "grid_auto_flow": null,
            "grid_auto_rows": null,
            "grid_column": null,
            "grid_gap": null,
            "grid_row": null,
            "grid_template_areas": null,
            "grid_template_columns": null,
            "grid_template_rows": null,
            "height": null,
            "justify_content": null,
            "justify_items": null,
            "left": null,
            "margin": null,
            "max_height": null,
            "max_width": null,
            "min_height": null,
            "min_width": null,
            "object_fit": null,
            "object_position": null,
            "order": null,
            "overflow": null,
            "overflow_x": null,
            "overflow_y": null,
            "padding": null,
            "right": null,
            "top": null,
            "visibility": null,
            "width": null
          }
        },
        "7aa94a2a146f4bc0b5a7f4f97cc8facc": {
          "model_module": "@jupyter-widgets/controls",
          "model_module_version": "1.5.0",
          "model_name": "HBoxModel",
          "state": {
            "_dom_classes": [],
            "_model_module": "@jupyter-widgets/controls",
            "_model_module_version": "1.5.0",
            "_model_name": "HBoxModel",
            "_view_count": null,
            "_view_module": "@jupyter-widgets/controls",
            "_view_module_version": "1.5.0",
            "_view_name": "HBoxView",
            "box_style": "",
            "children": [
              "IPY_MODEL_5e19256884f34f62814749308d947df3",
              "IPY_MODEL_23c108b16c8d4b6abc6a7fe278b5f5e8",
              "IPY_MODEL_a8ad705415c34f18adcabe48b6299b78"
            ],
            "layout": "IPY_MODEL_554c158931794bc7935a974444495eda"
          }
        },
        "7bdcbc9de68444ffa3036b15372e4d37": {
          "model_module": "@jupyter-widgets/base",
          "model_module_version": "1.2.0",
          "model_name": "LayoutModel",
          "state": {
            "_model_module": "@jupyter-widgets/base",
            "_model_module_version": "1.2.0",
            "_model_name": "LayoutModel",
            "_view_count": null,
            "_view_module": "@jupyter-widgets/base",
            "_view_module_version": "1.2.0",
            "_view_name": "LayoutView",
            "align_content": null,
            "align_items": null,
            "align_self": null,
            "border": null,
            "bottom": null,
            "display": null,
            "flex": null,
            "flex_flow": null,
            "grid_area": null,
            "grid_auto_columns": null,
            "grid_auto_flow": null,
            "grid_auto_rows": null,
            "grid_column": null,
            "grid_gap": null,
            "grid_row": null,
            "grid_template_areas": null,
            "grid_template_columns": null,
            "grid_template_rows": null,
            "height": null,
            "justify_content": null,
            "justify_items": null,
            "left": null,
            "margin": null,
            "max_height": null,
            "max_width": null,
            "min_height": null,
            "min_width": null,
            "object_fit": null,
            "object_position": null,
            "order": null,
            "overflow": null,
            "overflow_x": null,
            "overflow_y": null,
            "padding": null,
            "right": null,
            "top": null,
            "visibility": null,
            "width": null
          }
        },
        "7cb1960e1cd94d28935b86b5acba0cea": {
          "model_module": "@jupyter-widgets/controls",
          "model_module_version": "1.5.0",
          "model_name": "HTMLModel",
          "state": {
            "_dom_classes": [],
            "_model_module": "@jupyter-widgets/controls",
            "_model_module_version": "1.5.0",
            "_model_name": "HTMLModel",
            "_view_count": null,
            "_view_module": "@jupyter-widgets/controls",
            "_view_module_version": "1.5.0",
            "_view_name": "HTMLView",
            "description": "",
            "description_tooltip": null,
            "layout": "IPY_MODEL_40ba8b0d65de450b8bd945c3a9607467",
            "placeholder": "​",
            "style": "IPY_MODEL_26ce5818cbac4f41b53826647471f697",
            "value": "100%"
          }
        },
        "7d38ced576e640cf968c3a714aa32f0d": {
          "model_module": "@jupyter-widgets/base",
          "model_module_version": "1.2.0",
          "model_name": "LayoutModel",
          "state": {
            "_model_module": "@jupyter-widgets/base",
            "_model_module_version": "1.2.0",
            "_model_name": "LayoutModel",
            "_view_count": null,
            "_view_module": "@jupyter-widgets/base",
            "_view_module_version": "1.2.0",
            "_view_name": "LayoutView",
            "align_content": null,
            "align_items": null,
            "align_self": null,
            "border": null,
            "bottom": null,
            "display": null,
            "flex": null,
            "flex_flow": null,
            "grid_area": null,
            "grid_auto_columns": null,
            "grid_auto_flow": null,
            "grid_auto_rows": null,
            "grid_column": null,
            "grid_gap": null,
            "grid_row": null,
            "grid_template_areas": null,
            "grid_template_columns": null,
            "grid_template_rows": null,
            "height": null,
            "justify_content": null,
            "justify_items": null,
            "left": null,
            "margin": null,
            "max_height": null,
            "max_width": null,
            "min_height": null,
            "min_width": null,
            "object_fit": null,
            "object_position": null,
            "order": null,
            "overflow": null,
            "overflow_x": null,
            "overflow_y": null,
            "padding": null,
            "right": null,
            "top": null,
            "visibility": null,
            "width": null
          }
        },
        "83f3177a5bf1459a9f768c203d08a26c": {
          "model_module": "@jupyter-widgets/controls",
          "model_module_version": "1.5.0",
          "model_name": "DescriptionStyleModel",
          "state": {
            "_model_module": "@jupyter-widgets/controls",
            "_model_module_version": "1.5.0",
            "_model_name": "DescriptionStyleModel",
            "_view_count": null,
            "_view_module": "@jupyter-widgets/base",
            "_view_module_version": "1.2.0",
            "_view_name": "StyleView",
            "description_width": ""
          }
        },
        "887288876c29489fbafc32c4a94f10a5": {
          "model_module": "@jupyter-widgets/base",
          "model_module_version": "1.2.0",
          "model_name": "LayoutModel",
          "state": {
            "_model_module": "@jupyter-widgets/base",
            "_model_module_version": "1.2.0",
            "_model_name": "LayoutModel",
            "_view_count": null,
            "_view_module": "@jupyter-widgets/base",
            "_view_module_version": "1.2.0",
            "_view_name": "LayoutView",
            "align_content": null,
            "align_items": null,
            "align_self": null,
            "border": null,
            "bottom": null,
            "display": null,
            "flex": null,
            "flex_flow": null,
            "grid_area": null,
            "grid_auto_columns": null,
            "grid_auto_flow": null,
            "grid_auto_rows": null,
            "grid_column": null,
            "grid_gap": null,
            "grid_row": null,
            "grid_template_areas": null,
            "grid_template_columns": null,
            "grid_template_rows": null,
            "height": null,
            "justify_content": null,
            "justify_items": null,
            "left": null,
            "margin": null,
            "max_height": null,
            "max_width": null,
            "min_height": null,
            "min_width": null,
            "object_fit": null,
            "object_position": null,
            "order": null,
            "overflow": null,
            "overflow_x": null,
            "overflow_y": null,
            "padding": null,
            "right": null,
            "top": null,
            "visibility": null,
            "width": null
          }
        },
        "a4e3954e7c904975849da760a3a4f7bb": {
          "model_module": "@jupyter-widgets/controls",
          "model_module_version": "1.5.0",
          "model_name": "ProgressStyleModel",
          "state": {
            "_model_module": "@jupyter-widgets/controls",
            "_model_module_version": "1.5.0",
            "_model_name": "ProgressStyleModel",
            "_view_count": null,
            "_view_module": "@jupyter-widgets/base",
            "_view_module_version": "1.2.0",
            "_view_name": "StyleView",
            "bar_color": null,
            "description_width": ""
          }
        },
        "a8ad705415c34f18adcabe48b6299b78": {
          "model_module": "@jupyter-widgets/controls",
          "model_module_version": "1.5.0",
          "model_name": "HTMLModel",
          "state": {
            "_dom_classes": [],
            "_model_module": "@jupyter-widgets/controls",
            "_model_module_version": "1.5.0",
            "_model_name": "HTMLModel",
            "_view_count": null,
            "_view_module": "@jupyter-widgets/controls",
            "_view_module_version": "1.5.0",
            "_view_name": "HTMLView",
            "description": "",
            "description_tooltip": null,
            "layout": "IPY_MODEL_b19fc8c745db43cab305f177b880c571",
            "placeholder": "​",
            "style": "IPY_MODEL_37c980a7be2e4a50a74516d75de81cf5",
            "value": " 28881/28881 [00:00&lt;00:00, 1306101.54it/s]"
          }
        },
        "ad7c7119459f458e99df420497613eb2": {
          "model_module": "@jupyter-widgets/controls",
          "model_module_version": "1.5.0",
          "model_name": "FloatProgressModel",
          "state": {
            "_dom_classes": [],
            "_model_module": "@jupyter-widgets/controls",
            "_model_module_version": "1.5.0",
            "_model_name": "FloatProgressModel",
            "_view_count": null,
            "_view_module": "@jupyter-widgets/controls",
            "_view_module_version": "1.5.0",
            "_view_name": "ProgressView",
            "bar_style": "success",
            "description": "",
            "description_tooltip": null,
            "layout": "IPY_MODEL_ef1ad5670ab4467b810bc6e71fb88730",
            "max": 1648877,
            "min": 0,
            "orientation": "horizontal",
            "style": "IPY_MODEL_4a7f95c1e1d740f5b1618a42f049c878",
            "value": 1648877
          }
        },
        "b19fc8c745db43cab305f177b880c571": {
          "model_module": "@jupyter-widgets/base",
          "model_module_version": "1.2.0",
          "model_name": "LayoutModel",
          "state": {
            "_model_module": "@jupyter-widgets/base",
            "_model_module_version": "1.2.0",
            "_model_name": "LayoutModel",
            "_view_count": null,
            "_view_module": "@jupyter-widgets/base",
            "_view_module_version": "1.2.0",
            "_view_name": "LayoutView",
            "align_content": null,
            "align_items": null,
            "align_self": null,
            "border": null,
            "bottom": null,
            "display": null,
            "flex": null,
            "flex_flow": null,
            "grid_area": null,
            "grid_auto_columns": null,
            "grid_auto_flow": null,
            "grid_auto_rows": null,
            "grid_column": null,
            "grid_gap": null,
            "grid_row": null,
            "grid_template_areas": null,
            "grid_template_columns": null,
            "grid_template_rows": null,
            "height": null,
            "justify_content": null,
            "justify_items": null,
            "left": null,
            "margin": null,
            "max_height": null,
            "max_width": null,
            "min_height": null,
            "min_width": null,
            "object_fit": null,
            "object_position": null,
            "order": null,
            "overflow": null,
            "overflow_x": null,
            "overflow_y": null,
            "padding": null,
            "right": null,
            "top": null,
            "visibility": null,
            "width": null
          }
        },
        "b2af8895e0634556af637d791cfb62a2": {
          "model_module": "@jupyter-widgets/controls",
          "model_module_version": "1.5.0",
          "model_name": "HTMLModel",
          "state": {
            "_dom_classes": [],
            "_model_module": "@jupyter-widgets/controls",
            "_model_module_version": "1.5.0",
            "_model_name": "HTMLModel",
            "_view_count": null,
            "_view_module": "@jupyter-widgets/controls",
            "_view_module_version": "1.5.0",
            "_view_name": "HTMLView",
            "description": "",
            "description_tooltip": null,
            "layout": "IPY_MODEL_087f73afa6bb482e8a6c4c192709b572",
            "placeholder": "​",
            "style": "IPY_MODEL_bb10d54804504da696bf4cbf65e8e14a",
            "value": " 1648877/1648877 [00:00&lt;00:00, 69225370.32it/s]"
          }
        },
        "b4347e22331d46e68f49544db052ad22": {
          "model_module": "@jupyter-widgets/controls",
          "model_module_version": "1.5.0",
          "model_name": "FloatProgressModel",
          "state": {
            "_dom_classes": [],
            "_model_module": "@jupyter-widgets/controls",
            "_model_module_version": "1.5.0",
            "_model_name": "FloatProgressModel",
            "_view_count": null,
            "_view_module": "@jupyter-widgets/controls",
            "_view_module_version": "1.5.0",
            "_view_name": "ProgressView",
            "bar_style": "success",
            "description": "",
            "description_tooltip": null,
            "layout": "IPY_MODEL_7d38ced576e640cf968c3a714aa32f0d",
            "max": 4542,
            "min": 0,
            "orientation": "horizontal",
            "style": "IPY_MODEL_014fdfefe3114ad0beffdc1b0193af02",
            "value": 4542
          }
        },
        "bb10d54804504da696bf4cbf65e8e14a": {
          "model_module": "@jupyter-widgets/controls",
          "model_module_version": "1.5.0",
          "model_name": "DescriptionStyleModel",
          "state": {
            "_model_module": "@jupyter-widgets/controls",
            "_model_module_version": "1.5.0",
            "_model_name": "DescriptionStyleModel",
            "_view_count": null,
            "_view_module": "@jupyter-widgets/base",
            "_view_module_version": "1.2.0",
            "_view_name": "StyleView",
            "description_width": ""
          }
        },
        "c32216c4eaec4f3a931a6959a4a578c6": {
          "model_module": "@jupyter-widgets/base",
          "model_module_version": "1.2.0",
          "model_name": "LayoutModel",
          "state": {
            "_model_module": "@jupyter-widgets/base",
            "_model_module_version": "1.2.0",
            "_model_name": "LayoutModel",
            "_view_count": null,
            "_view_module": "@jupyter-widgets/base",
            "_view_module_version": "1.2.0",
            "_view_name": "LayoutView",
            "align_content": null,
            "align_items": null,
            "align_self": null,
            "border": null,
            "bottom": null,
            "display": null,
            "flex": null,
            "flex_flow": null,
            "grid_area": null,
            "grid_auto_columns": null,
            "grid_auto_flow": null,
            "grid_auto_rows": null,
            "grid_column": null,
            "grid_gap": null,
            "grid_row": null,
            "grid_template_areas": null,
            "grid_template_columns": null,
            "grid_template_rows": null,
            "height": null,
            "justify_content": null,
            "justify_items": null,
            "left": null,
            "margin": null,
            "max_height": null,
            "max_width": null,
            "min_height": null,
            "min_width": null,
            "object_fit": null,
            "object_position": null,
            "order": null,
            "overflow": null,
            "overflow_x": null,
            "overflow_y": null,
            "padding": null,
            "right": null,
            "top": null,
            "visibility": null,
            "width": null
          }
        },
        "c4737c430eab42008928eab15322596d": {
          "model_module": "@jupyter-widgets/base",
          "model_module_version": "1.2.0",
          "model_name": "LayoutModel",
          "state": {
            "_model_module": "@jupyter-widgets/base",
            "_model_module_version": "1.2.0",
            "_model_name": "LayoutModel",
            "_view_count": null,
            "_view_module": "@jupyter-widgets/base",
            "_view_module_version": "1.2.0",
            "_view_name": "LayoutView",
            "align_content": null,
            "align_items": null,
            "align_self": null,
            "border": null,
            "bottom": null,
            "display": null,
            "flex": null,
            "flex_flow": null,
            "grid_area": null,
            "grid_auto_columns": null,
            "grid_auto_flow": null,
            "grid_auto_rows": null,
            "grid_column": null,
            "grid_gap": null,
            "grid_row": null,
            "grid_template_areas": null,
            "grid_template_columns": null,
            "grid_template_rows": null,
            "height": null,
            "justify_content": null,
            "justify_items": null,
            "left": null,
            "margin": null,
            "max_height": null,
            "max_width": null,
            "min_height": null,
            "min_width": null,
            "object_fit": null,
            "object_position": null,
            "order": null,
            "overflow": null,
            "overflow_x": null,
            "overflow_y": null,
            "padding": null,
            "right": null,
            "top": null,
            "visibility": null,
            "width": null
          }
        },
        "d471d90b5db44953aefb8a4e03fe9758": {
          "model_module": "@jupyter-widgets/controls",
          "model_module_version": "1.5.0",
          "model_name": "HTMLModel",
          "state": {
            "_dom_classes": [],
            "_model_module": "@jupyter-widgets/controls",
            "_model_module_version": "1.5.0",
            "_model_name": "HTMLModel",
            "_view_count": null,
            "_view_module": "@jupyter-widgets/controls",
            "_view_module_version": "1.5.0",
            "_view_name": "HTMLView",
            "description": "",
            "description_tooltip": null,
            "layout": "IPY_MODEL_3be75b1e9e844197884e43c833b286b0",
            "placeholder": "​",
            "style": "IPY_MODEL_83f3177a5bf1459a9f768c203d08a26c",
            "value": " 4542/4542 [00:00&lt;00:00, 309890.67it/s]"
          }
        },
        "dd3a21058b3d417b820f9a0cf0f8da5c": {
          "model_module": "@jupyter-widgets/controls",
          "model_module_version": "1.5.0",
          "model_name": "HTMLModel",
          "state": {
            "_dom_classes": [],
            "_model_module": "@jupyter-widgets/controls",
            "_model_module_version": "1.5.0",
            "_model_name": "HTMLModel",
            "_view_count": null,
            "_view_module": "@jupyter-widgets/controls",
            "_view_module_version": "1.5.0",
            "_view_name": "HTMLView",
            "description": "",
            "description_tooltip": null,
            "layout": "IPY_MODEL_7bdcbc9de68444ffa3036b15372e4d37",
            "placeholder": "​",
            "style": "IPY_MODEL_f41ba76929c64f7da894e461e62c52ee",
            "value": "100%"
          }
        },
        "e099f46dd35a4fcfafe0379ec6b8bead": {
          "model_module": "@jupyter-widgets/controls",
          "model_module_version": "1.5.0",
          "model_name": "ProgressStyleModel",
          "state": {
            "_model_module": "@jupyter-widgets/controls",
            "_model_module_version": "1.5.0",
            "_model_name": "ProgressStyleModel",
            "_view_count": null,
            "_view_module": "@jupyter-widgets/base",
            "_view_module_version": "1.2.0",
            "_view_name": "StyleView",
            "bar_color": null,
            "description_width": ""
          }
        },
        "e5e569ad091b4f6799d616b16d4ae643": {
          "model_module": "@jupyter-widgets/controls",
          "model_module_version": "1.5.0",
          "model_name": "HBoxModel",
          "state": {
            "_dom_classes": [],
            "_model_module": "@jupyter-widgets/controls",
            "_model_module_version": "1.5.0",
            "_model_name": "HBoxModel",
            "_view_count": null,
            "_view_module": "@jupyter-widgets/controls",
            "_view_module_version": "1.5.0",
            "_view_name": "HBoxView",
            "box_style": "",
            "children": [
              "IPY_MODEL_dd3a21058b3d417b820f9a0cf0f8da5c",
              "IPY_MODEL_ad7c7119459f458e99df420497613eb2",
              "IPY_MODEL_b2af8895e0634556af637d791cfb62a2"
            ],
            "layout": "IPY_MODEL_40db8d04ca8b4726956e8e5efad1f795"
          }
        },
        "ec057469377b4f5fb6573327d86856b7": {
          "model_module": "@jupyter-widgets/base",
          "model_module_version": "1.2.0",
          "model_name": "LayoutModel",
          "state": {
            "_model_module": "@jupyter-widgets/base",
            "_model_module_version": "1.2.0",
            "_model_name": "LayoutModel",
            "_view_count": null,
            "_view_module": "@jupyter-widgets/base",
            "_view_module_version": "1.2.0",
            "_view_name": "LayoutView",
            "align_content": null,
            "align_items": null,
            "align_self": null,
            "border": null,
            "bottom": null,
            "display": null,
            "flex": null,
            "flex_flow": null,
            "grid_area": null,
            "grid_auto_columns": null,
            "grid_auto_flow": null,
            "grid_auto_rows": null,
            "grid_column": null,
            "grid_gap": null,
            "grid_row": null,
            "grid_template_areas": null,
            "grid_template_columns": null,
            "grid_template_rows": null,
            "height": null,
            "justify_content": null,
            "justify_items": null,
            "left": null,
            "margin": null,
            "max_height": null,
            "max_width": null,
            "min_height": null,
            "min_width": null,
            "object_fit": null,
            "object_position": null,
            "order": null,
            "overflow": null,
            "overflow_x": null,
            "overflow_y": null,
            "padding": null,
            "right": null,
            "top": null,
            "visibility": null,
            "width": null
          }
        },
        "ef1ad5670ab4467b810bc6e71fb88730": {
          "model_module": "@jupyter-widgets/base",
          "model_module_version": "1.2.0",
          "model_name": "LayoutModel",
          "state": {
            "_model_module": "@jupyter-widgets/base",
            "_model_module_version": "1.2.0",
            "_model_name": "LayoutModel",
            "_view_count": null,
            "_view_module": "@jupyter-widgets/base",
            "_view_module_version": "1.2.0",
            "_view_name": "LayoutView",
            "align_content": null,
            "align_items": null,
            "align_self": null,
            "border": null,
            "bottom": null,
            "display": null,
            "flex": null,
            "flex_flow": null,
            "grid_area": null,
            "grid_auto_columns": null,
            "grid_auto_flow": null,
            "grid_auto_rows": null,
            "grid_column": null,
            "grid_gap": null,
            "grid_row": null,
            "grid_template_areas": null,
            "grid_template_columns": null,
            "grid_template_rows": null,
            "height": null,
            "justify_content": null,
            "justify_items": null,
            "left": null,
            "margin": null,
            "max_height": null,
            "max_width": null,
            "min_height": null,
            "min_width": null,
            "object_fit": null,
            "object_position": null,
            "order": null,
            "overflow": null,
            "overflow_x": null,
            "overflow_y": null,
            "padding": null,
            "right": null,
            "top": null,
            "visibility": null,
            "width": null
          }
        },
        "f38b570cf2f54f5a985887b1dbbe3ba0": {
          "model_module": "@jupyter-widgets/controls",
          "model_module_version": "1.5.0",
          "model_name": "HBoxModel",
          "state": {
            "_dom_classes": [],
            "_model_module": "@jupyter-widgets/controls",
            "_model_module_version": "1.5.0",
            "_model_name": "HBoxModel",
            "_view_count": null,
            "_view_module": "@jupyter-widgets/controls",
            "_view_module_version": "1.5.0",
            "_view_name": "HBoxView",
            "box_style": "",
            "children": [
              "IPY_MODEL_7cb1960e1cd94d28935b86b5acba0cea",
              "IPY_MODEL_b4347e22331d46e68f49544db052ad22",
              "IPY_MODEL_d471d90b5db44953aefb8a4e03fe9758"
            ],
            "layout": "IPY_MODEL_887288876c29489fbafc32c4a94f10a5"
          }
        },
        "f41ba76929c64f7da894e461e62c52ee": {
          "model_module": "@jupyter-widgets/controls",
          "model_module_version": "1.5.0",
          "model_name": "DescriptionStyleModel",
          "state": {
            "_model_module": "@jupyter-widgets/controls",
            "_model_module_version": "1.5.0",
            "_model_name": "DescriptionStyleModel",
            "_view_count": null,
            "_view_module": "@jupyter-widgets/base",
            "_view_module_version": "1.2.0",
            "_view_name": "StyleView",
            "description_width": ""
          }
        },
        "f522b0f2f37c46f287df54c6e3e82b48": {
          "model_module": "@jupyter-widgets/controls",
          "model_module_version": "1.5.0",
          "model_name": "DescriptionStyleModel",
          "state": {
            "_model_module": "@jupyter-widgets/controls",
            "_model_module_version": "1.5.0",
            "_model_name": "DescriptionStyleModel",
            "_view_count": null,
            "_view_module": "@jupyter-widgets/base",
            "_view_module_version": "1.2.0",
            "_view_name": "StyleView",
            "description_width": ""
          }
        }
      }
    }
  },
  "nbformat": 4,
  "nbformat_minor": 0
}