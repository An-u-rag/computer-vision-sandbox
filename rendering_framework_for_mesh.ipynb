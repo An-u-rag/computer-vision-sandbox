{
  "nbformat": 4,
  "nbformat_minor": 0,
  "metadata": {
    "colab": {
      "provenance": []
    },
    "kernelspec": {
      "name": "python3",
      "display_name": "Python 3"
    },
    "language_info": {
      "name": "python"
    },
    "accelerator": "GPU",
    "gpuClass": "standard"
  },
  "cells": [
    {
      "cell_type": "code",
      "execution_count": 1,
      "metadata": {
        "colab": {
          "base_uri": "https://localhost:8080/"
        },
        "id": "NkSad-rU7rdv",
        "outputId": "d014989c-c12c-4308-de1c-e559b3ee1127"
      },
      "outputs": [
        {
          "output_type": "stream",
          "name": "stdout",
          "text": [
            "Looking in indexes: https://pypi.org/simple, https://us-python.pkg.dev/colab-wheels/public/simple/\n",
            "Looking in links: https://nvidia-kaolin.s3.us-east-2.amazonaws.com/torch-1.13.1_cu116.html\n",
            "Collecting kaolin==0.13.0\n",
            "  Downloading https://nvidia-kaolin.s3.us-east-2.amazonaws.com/torch-1.13.1_cu116/kaolin-0.13.0-cp39-cp39-linux_x86_64.whl (3.8 MB)\n",
            "\u001b[2K     \u001b[90m━━━━━━━━━━━━━━━━━━━━━━━━━━━━━━━━━━━━━━━━\u001b[0m \u001b[32m3.8/3.8 MB\u001b[0m \u001b[31m6.3 MB/s\u001b[0m eta \u001b[36m0:00:00\u001b[0m\n",
            "\u001b[?25hRequirement already satisfied: scipy>=1.2.0 in /usr/local/lib/python3.9/dist-packages (from kaolin==0.13.0) (1.10.1)\n",
            "Collecting tornado==6.1\n",
            "  Downloading tornado-6.1-cp39-cp39-manylinux2010_x86_64.whl (427 kB)\n",
            "\u001b[2K     \u001b[90m━━━━━━━━━━━━━━━━━━━━━━━━━━━━━━━━━━━━━━━\u001b[0m \u001b[32m427.2/427.2 KB\u001b[0m \u001b[31m5.4 MB/s\u001b[0m eta \u001b[36m0:00:00\u001b[0m\n",
            "\u001b[?25hRequirement already satisfied: Pillow>=8.0.0 in /usr/local/lib/python3.9/dist-packages (from kaolin==0.13.0) (8.4.0)\n",
            "Collecting flask==2.0.3\n",
            "  Downloading Flask-2.0.3-py3-none-any.whl (95 kB)\n",
            "\u001b[2K     \u001b[90m━━━━━━━━━━━━━━━━━━━━━━━━━━━━━━━━━━━━━━━━\u001b[0m \u001b[32m95.6/95.6 KB\u001b[0m \u001b[31m4.0 MB/s\u001b[0m eta \u001b[36m0:00:00\u001b[0m\n",
            "\u001b[?25hRequirement already satisfied: tqdm>=4.51.0 in /usr/local/lib/python3.9/dist-packages (from kaolin==0.13.0) (4.65.0)\n",
            "Collecting usd-core<22.8\n",
            "  Downloading usd_core-22.5.post1-cp39-none-manylinux_2_17_x86_64.manylinux2014_x86_64.whl (24.3 MB)\n",
            "\u001b[2K     \u001b[90m━━━━━━━━━━━━━━━━━━━━━━━━━━━━━━━━━━━━━━━━\u001b[0m \u001b[32m24.3/24.3 MB\u001b[0m \u001b[31m16.1 MB/s\u001b[0m eta \u001b[36m0:00:00\u001b[0m\n",
            "\u001b[?25hRequirement already satisfied: Werkzeug>=2.0 in /usr/local/lib/python3.9/dist-packages (from flask==2.0.3->kaolin==0.13.0) (2.2.3)\n",
            "Requirement already satisfied: click>=7.1.2 in /usr/local/lib/python3.9/dist-packages (from flask==2.0.3->kaolin==0.13.0) (8.1.3)\n",
            "Requirement already satisfied: itsdangerous>=2.0 in /usr/local/lib/python3.9/dist-packages (from flask==2.0.3->kaolin==0.13.0) (2.1.2)\n",
            "Requirement already satisfied: Jinja2>=3.0 in /usr/local/lib/python3.9/dist-packages (from flask==2.0.3->kaolin==0.13.0) (3.1.2)\n",
            "Requirement already satisfied: numpy<1.27.0,>=1.19.5 in /usr/local/lib/python3.9/dist-packages (from scipy>=1.2.0->kaolin==0.13.0) (1.22.4)\n",
            "Requirement already satisfied: MarkupSafe>=2.0 in /usr/local/lib/python3.9/dist-packages (from Jinja2>=3.0->flask==2.0.3->kaolin==0.13.0) (2.1.2)\n",
            "Installing collected packages: usd-core, tornado, flask, kaolin\n",
            "  Attempting uninstall: tornado\n",
            "    Found existing installation: tornado 6.2\n",
            "    Uninstalling tornado-6.2:\n",
            "      Successfully uninstalled tornado-6.2\n",
            "  Attempting uninstall: flask\n",
            "    Found existing installation: Flask 2.2.3\n",
            "    Uninstalling Flask-2.2.3:\n",
            "      Successfully uninstalled Flask-2.2.3\n",
            "\u001b[31mERROR: pip's dependency resolver does not currently take into account all the packages that are installed. This behaviour is the source of the following dependency conflicts.\n",
            "google-colab 1.0.0 requires tornado~=6.2, but you have tornado 6.1 which is incompatible.\u001b[0m\u001b[31m\n",
            "\u001b[0mSuccessfully installed flask-2.0.3 kaolin-0.13.0 tornado-6.1 usd-core-22.5.post1\n"
          ]
        }
      ],
      "source": [
        "#@title Install Kaolin\n",
        "\n",
        "!pip install kaolin==0.13.0 -f https://nvidia-kaolin.s3.us-east-2.amazonaws.com/torch-1.13.1_cu116.html"
      ]
    },
    {
      "cell_type": "code",
      "source": [
        "#import modules\n",
        "\n",
        "import torch\n",
        "import kaolin as kal\n",
        "import numpy as np\n",
        "from PIL import Image\n",
        "\n",
        "device = torch.device('cuda:0')"
      ],
      "metadata": {
        "id": "9tK_e9BD8Fvo"
      },
      "execution_count": 2,
      "outputs": []
    },
    {
      "cell_type": "code",
      "source": [
        "#@title get camera params from elevation, azimuth, radius\n",
        "def get_camera_from_view(elev, azim, r=3.0):\n",
        "    x = r * torch.cos(elev) * torch.cos(azim)\n",
        "    y = r * torch.sin(elev)\n",
        "    z = r * torch.cos(elev) * torch.sin(azim)\n",
        "\n",
        "    pos = torch.tensor([x, y, z]).unsqueeze(0)\n",
        "    look_at = -pos\n",
        "    direction = torch.tensor([0.0, 1.0, 0.0]).unsqueeze(0)\n",
        "\n",
        "    camera_proj = kal.render.camera.generate_transformation_matrix(pos, look_at, direction)\n",
        "    return camera_proj"
      ],
      "metadata": {
        "id": "UUkX3nUW8OaB"
      },
      "execution_count": 3,
      "outputs": []
    },
    {
      "cell_type": "code",
      "source": [
        "#Mesh class\n",
        "\n",
        "class Mesh:\n",
        "  def __init__(self, obj_path):\n",
        "     mesh = kal.io.obj.import_mesh(obj_path, with_normals = True)\n",
        "     self.vertices = mesh.vertices.to(device)\n",
        "     self.faces = mesh.faces.to(device)\n",
        "     self.vertex_normals = mesh.vertex_normals.to(device)\n",
        "     self.normalize_mesh()\n",
        "    \n",
        "  def normalize_mesh(self):\n",
        "    center = self.vertices.mean(dim = 0)\n",
        "    v = self.vertices - center\n",
        "    scale = torch.norm(v, dim = 1).max()\n",
        "    v /= scale\n",
        "    self.vertices = v"
      ],
      "metadata": {
        "id": "rFWdwt-v8ZWW"
      },
      "execution_count": 4,
      "outputs": []
    },
    {
      "cell_type": "code",
      "source": [
        "#Render single image from Mesh\n",
        "lights = torch.tensor([1.0, 1.0, 1.0, 0.0, 0.0, 0.0, 0.0, 0.0, 0.0]).to(device)\n",
        "camera_projection =kal.render.camera.generate_perspective_projection(np.pi / 3).to(device)\n",
        "dim = (224, 224)\n",
        "def render_single_view(mesh, elev=0, azim=0, show=False, lighting=True, background=None, radius=2,\n",
        "                        return_mask=False):\n",
        "    # if mesh is None:\n",
        "    #     mesh = self._current_mesh\n",
        "    verts = mesh.vertices\n",
        "    faces = mesh.faces\n",
        "    n_faces = faces.shape[0]\n",
        "\n",
        "    face_attributes = torch.ones(1, n_faces, 3, 3).to(device) * 0.5\n",
        "\n",
        "\n",
        "    camera_transform = get_camera_from_view(torch.tensor(elev), torch.tensor(azim), r=radius).to(device)\n",
        "    face_vertices_camera, face_vertices_image, face_normals = kal.render.mesh.prepare_vertices(\n",
        "        mesh.vertices.to(device), mesh.faces.to(device), camera_projection, camera_transform=camera_transform)\n",
        "\n",
        "    image_features, soft_mask, face_idx = kal.render.mesh.dibr_rasterization(\n",
        "        dim[1], dim[0], face_vertices_camera[:, :, :, -1],\n",
        "        face_vertices_image, face_attributes, face_normals[:, :, -1])\n",
        "\n",
        "\n",
        "    image = torch.clamp(image_features, 0.0, 1.0)\n",
        "    if lighting:\n",
        "        image_normals = face_normals[:, face_idx].squeeze(0)\n",
        "        image_lighting = kal.render.mesh.spherical_harmonic_lighting(image_normals, lights).unsqueeze(0)\n",
        "        image = image * image_lighting.repeat(1, 3, 1, 1).permute(0, 2, 3, 1).to(device)\n",
        "        image = torch.clamp(image, 0.0, 1.0)\n",
        "\n",
        "    return image"
      ],
      "metadata": {
        "id": "HCv912vP9C9h"
      },
      "execution_count": 5,
      "outputs": []
    },
    {
      "cell_type": "code",
      "source": [
        "mesh = Mesh('./vase.obj')\n",
        "image = render_single_view(mesh, elev = np.pi / 3, azim = np.pi/3)\n",
        "\n",
        "Image.fromarray((image.squeeze(0).cpu().numpy() * 255.).astype('uint8'))"
      ],
      "metadata": {
        "colab": {
          "base_uri": "https://localhost:8080/",
          "height": 241
        },
        "id": "JfeUZb94-PHq",
        "outputId": "6f84dc4f-da4f-4e74-840f-b46a4b4a1db2"
      },
      "execution_count": 11,
      "outputs": [
        {
          "output_type": "execute_result",
          "data": {
            "text/plain": [
              "<PIL.Image.Image image mode=RGB size=224x224 at 0x7F87B4307FD0>"
            ],
            "image/png": "[encoded data removed]"
          },
          "metadata": {},
          "execution_count": 11
        }
      ]
    }
  ]
}